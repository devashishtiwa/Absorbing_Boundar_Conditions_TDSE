{
 "cells": [
  {
   "cell_type": "markdown",
   "id": "0af496bc",
   "metadata": {},
   "source": [
    "# Using all the fucntions from our Module. Then, comparing the methods, using there reflectivity."
   ]
  },
  {
   "cell_type": "code",
   "execution_count": null,
   "id": "583cbf5c",
   "metadata": {},
   "outputs": [],
   "source": []
  },
  {
   "cell_type": "code",
   "execution_count": 20,
   "id": "093465b3",
   "metadata": {},
   "outputs": [],
   "source": [
    "#Author - Devashish and Darsh\n",
    "#Date - 8th August, 2023"
   ]
  },
  {
   "cell_type": "code",
   "execution_count": null,
   "id": "706b5327",
   "metadata": {},
   "outputs": [],
   "source": []
  },
  {
   "cell_type": "code",
   "execution_count": 21,
   "id": "64dddf3b",
   "metadata": {},
   "outputs": [],
   "source": [
    "import numpy as np\n",
    "import scipy\n",
    "import matplotlib.pyplot as plt\n",
    "from scipy import sparse\n",
    "from scipy.sparse import diags, linalg\n",
    "import scipy.sparse.linalg as splin"
   ]
  },
  {
   "cell_type": "code",
   "execution_count": 76,
   "id": "09f8745f",
   "metadata": {},
   "outputs": [],
   "source": [
    "from Modules import LAM\n",
    "from Modules.LAM import LAM_ABC, CN_LAM, LAM_CN_Solve\n",
    "from Modules import P3_ABC\n",
    "from Modules.P3_ABC import CN_P3, P3_ZETA, p3_Solve_CN\n",
    "from Modules import RFA\n",
    "from  Modules.RFA import RFA_ABC, CN_RFA, RFA_CN_Solve\n",
    "from Modules import P3_ABC\n",
    "from Modules import P2_ABC\n",
    "from Modules.P2_ABC import CN_P2, p2_Solve_CN, P2_ABC\n",
    "from Modules import P4_ABC\n",
    "from Modules.P4_ABC import CN_P4, p4_Solve_CN, P4_ABC\n",
    "from Modules.others import Gaussian_Function\n",
    "from Modules import CrankNikolson\n",
    "from Modules.CrankNikolson import CrankNikolson, Solve_CN"
   ]
  },
  {
   "cell_type": "code",
   "execution_count": 77,
   "id": "1366386c",
   "metadata": {},
   "outputs": [
    {
     "data": {
      "text/plain": [
       "1024"
      ]
     },
     "execution_count": 77,
     "metadata": {},
     "output_type": "execute_result"
    }
   ],
   "source": [
    "#Initializing the conditions. \n",
    "\n",
    "#defining the values so as to impliment in Crank Nikolson method\n",
    "\n",
    "J = 1024                                                 #number of grid points\n",
    "m = 0.5                                   #mass of the particle is set to 0.5 units, through the calculations\n",
    "xmin, xmax      =  -10. , 10.                                  # x domain \n",
    "t0  , tend      =    0 , 2.0                                  # time period\n",
    "centre , k0, sigma   =  0 , 7. ,1                           # parameters for the gaussian \n",
    "E               =   k0**2                                   # particle energy\n",
    "dt              =   0.001                                      # time step\n",
    "q               =   2*k0                        #q is the parameter for absorbing boundary condition\n",
    "w               =   0.2                     #w is another parameter for p = 4 aborbing boundary codnition \n",
    "\n",
    "x_Range, dx  = np.linspace(xmin,xmax,J,retstep=True)     # x-array and calculation of x step    \n",
    "t      = np.arange(t0, tend + dt, dt)  \n",
    "N = len(t)                                         #number of points in time array\n",
    "len(x_Range)                                              #length of array x must be qual to J"
   ]
  },
  {
   "cell_type": "code",
   "execution_count": 78,
   "id": "b33b3295",
   "metadata": {},
   "outputs": [
    {
     "name": "stdout",
     "output_type": "stream",
     "text": [
      "Help on function Gaussian_Function in module Modules.others:\n",
      "\n",
      "Gaussian_Function(x_Range, centre, k0, sigma)\n",
      "\n"
     ]
    }
   ],
   "source": [
    "help(Gaussian_Function)"
   ]
  },
  {
   "cell_type": "code",
   "execution_count": 79,
   "id": "4ed2e2b8",
   "metadata": {},
   "outputs": [
    {
     "data": {
      "text/plain": [
       "[<matplotlib.lines.Line2D at 0x29149641d60>]"
      ]
     },
     "execution_count": 79,
     "metadata": {},
     "output_type": "execute_result"
    },
    {
     "data": {
      "image/png": "[encoded data removed]",
      "text/plain": [
       "<Figure size 432x288 with 1 Axes>"
      ]
     },
     "metadata": {
      "needs_background": "light"
     },
     "output_type": "display_data"
    }
   ],
   "source": [
    "psi0   = Gaussian_Function(x_Range,centre,k0,sigma)      #Initializing the eave packet\n",
    "plt.plot(x_Range, np.absolute(psi0))"
   ]
  },
  {
   "cell_type": "code",
   "execution_count": null,
   "id": "a0fa8417",
   "metadata": {},
   "outputs": [],
   "source": []
  },
  {
   "cell_type": "markdown",
   "id": "071a3a65",
   "metadata": {},
   "source": [
    "# Linear Fucntion Approximation"
   ]
  },
  {
   "cell_type": "code",
   "execution_count": 80,
   "id": "3875d6f3",
   "metadata": {},
   "outputs": [],
   "source": [
    "#Solving Using Linear Approximation Method"
   ]
  },
  {
   "cell_type": "code",
   "execution_count": 81,
   "id": "7c7e1537",
   "metadata": {},
   "outputs": [
    {
     "name": "stdout",
     "output_type": "stream",
     "text": [
      "Help on function LAM_ABC in module Modules.LAM:\n",
      "\n",
      "LAM_ABC(g1, g2, V, dt, dx, m, k0)\n",
      "    The function will provide the necessary matrix, for solving Schodinger Wave Equation using\n",
      "    Crank Nikolson Scheme, with Linear Approximation method of Absorbing Boundary Conditions\n",
      "    \n",
      "    \n",
      "    The functions take the input as, \n",
      "    \n",
      "    Potential Array, whose length should be equal to number of gird points\n",
      "    g1 and g2 are parameters derived in our report. \n",
      "    \n",
      "    \n",
      "    dt - Time step\n",
      "    dx - grid step\n",
      "    m - mass, which is fixed in our case as 0.5\n",
      "    k0 - Parameter of guassian, changing this, changes the shape of guassian, to much extent\n",
      "\n"
     ]
    }
   ],
   "source": [
    "help(LAM_ABC)"
   ]
  },
  {
   "cell_type": "code",
   "execution_count": 82,
   "id": "cc972f52",
   "metadata": {},
   "outputs": [
    {
     "name": "stdout",
     "output_type": "stream",
     "text": [
      "Help on function CN_LAM in module Modules.LAM:\n",
      "\n",
      "CN_LAM(J, V, LAM_zeta, dx, dt, m)\n",
      "    The function takes the input as, \n",
      "    J - length of array\n",
      "    V - Potential array\n",
      "    LAM_zeta - ABC which is defined for Rational Functiuon Approximation\n",
      "    dx - grid step\n",
      "    dt - time step\n",
      "    m - mass which is fixed in our case as 0.5\n",
      "\n"
     ]
    }
   ],
   "source": [
    "help(CN_LAM)"
   ]
  },
  {
   "cell_type": "code",
   "execution_count": 83,
   "id": "64dfcb62",
   "metadata": {},
   "outputs": [
    {
     "name": "stdout",
     "output_type": "stream",
     "text": [
      "Help on function LAM_CN_Solve in module Modules.LAM:\n",
      "\n",
      "LAM_CN_Solve(g1, g2, x_Range, dx, t, dt, LAM_psi0, V, m, k0)\n",
      "    This fucntion solve the schrodinger wave equation for Linear Approximation method, knowing the fucntions, CM_LAM, \n",
      "    and LAM_ZETA\n",
      "    \n",
      "    This requires the input,\n",
      "    x_Range - Range of grid points\n",
      "    dx, dt, time points, \n",
      "    m which is fixed\n",
      "    LAM_psi0, which is initial wave packet\n",
      "\n"
     ]
    }
   ],
   "source": [
    "help(LAM_CN_Solve)"
   ]
  },
  {
   "cell_type": "code",
   "execution_count": null,
   "id": "f1ff77f4",
   "metadata": {},
   "outputs": [],
   "source": []
  },
  {
   "cell_type": "code",
   "execution_count": 84,
   "id": "fd1867aa",
   "metadata": {},
   "outputs": [],
   "source": [
    "#lets first define what are g1 and g2, and initialize some of the more variables. \n",
    "\n",
    "alpha1 = 37                          #Changing the alpha1 and alpha2, in some ratio, \n",
    "                                     #changes the nature of absorbing boundary conditions heavily                 \n",
    "alpha2 = 39\n",
    "\n",
    "\n",
    "g1 = (np.sqrt(2*m*alpha2) - np.sqrt(2*m*alpha1))/(alpha2 - alpha1)              #The parameters are defined in our report\n",
    "g2 = (alpha2*np.sqrt(2*m*alpha1) - alpha1*np.sqrt(2*m*alpha2))/(alpha2 - alpha1)\n",
    "\n",
    "\n",
    "V = np.zeros(len(x_Range))"
   ]
  },
  {
   "cell_type": "code",
   "execution_count": 85,
   "id": "49de1ec4",
   "metadata": {},
   "outputs": [
    {
     "data": {
      "text/plain": [
       "array([[ 0.          +0.j        ,  0.          +0.j        ],\n",
       "       [-9.49670996-815.28247552j, -9.49670996-815.28247552j],\n",
       "       [-9.49670996-184.71752448j, -9.49670996-184.71752448j],\n",
       "       [ 9.49670996-184.71752448j,  9.49670996-184.71752448j],\n",
       "       [ 9.49670996-815.28247552j,  9.49670996-815.28247552j]])"
      ]
     },
     "execution_count": 85,
     "metadata": {},
     "output_type": "execute_result"
    }
   ],
   "source": [
    "lam_zeta = LAM_ABC(g1, g2, V,dt,dx,m, k0)\n",
    "lam_zeta"
   ]
  },
  {
   "cell_type": "code",
   "execution_count": 86,
   "id": "971be4a7",
   "metadata": {},
   "outputs": [],
   "source": [
    "lam_U1, LAM_U2 = CN_LAM(J, V, lam_zeta, dx, dt, m)"
   ]
  },
  {
   "cell_type": "code",
   "execution_count": 87,
   "id": "01cf8389",
   "metadata": {},
   "outputs": [],
   "source": [
    "lam_psi = LAM_CN_Solve(g1, g2, x_Range, dx, t, dt, psi0, V, m, k0)"
   ]
  },
  {
   "cell_type": "code",
   "execution_count": 88,
   "id": "e3beec0a",
   "metadata": {
    "scrolled": true
   },
   "outputs": [
    {
     "data": {
      "image/png": "[encoded data removed]",
      "text/plain": [
       "<Figure size 432x288 with 1 Axes>"
      ]
     },
     "metadata": {
      "needs_background": "light"
     },
     "output_type": "display_data"
    },
    {
     "data": {
      "image/png": "[encoded data removed]",
      "text/plain": [
       "<Figure size 432x288 with 1 Axes>"
      ]
     },
     "metadata": {
      "needs_background": "light"
     },
     "output_type": "display_data"
    },
    {
     "data": {
      "image/png": "[encoded data removed]",
      "text/plain": [
       "<Figure size 432x288 with 1 Axes>"
      ]
     },
     "metadata": {
      "needs_background": "light"
     },
     "output_type": "display_data"
    },
    {
     "data": {
      "image/png": "[encoded data removed]",
      "text/plain": [
       "<Figure size 432x288 with 1 Axes>"
      ]
     },
     "metadata": {
      "needs_background": "light"
     },
     "output_type": "display_data"
    },
    {
     "data": {
      "image/png": "[encoded data removed]",
      "text/plain": [
       "<Figure size 432x288 with 1 Axes>"
      ]
     },
     "metadata": {
      "needs_background": "light"
     },
     "output_type": "display_data"
    }
   ],
   "source": [
    "x_range = [-10, 10]\n",
    "y_range = [0, 0.7]\n",
    "\n",
    "\n",
    "for i in range(0, 1500, 300):\n",
    "    \n",
    "    plt.figure()\n",
    "    plt.plot(x_Range, np.absolute(lam_psi[:, i])**2)\n",
    "    \n",
    "    plt.xlim(x_range)\n",
    "    plt.ylim(y_range)\n",
    "    \n",
    "    \n",
    "#The reflection vanished"
   ]
  },
  {
   "cell_type": "code",
   "execution_count": null,
   "id": "b6e4de14",
   "metadata": {},
   "outputs": [],
   "source": []
  },
  {
   "cell_type": "code",
   "execution_count": null,
   "id": "1618481f",
   "metadata": {},
   "outputs": [],
   "source": []
  },
  {
   "cell_type": "markdown",
   "id": "d421f776",
   "metadata": {},
   "source": [
    "# Rational Function Approximation"
   ]
  },
  {
   "cell_type": "code",
   "execution_count": 89,
   "id": "c4ce8a5d",
   "metadata": {},
   "outputs": [],
   "source": [
    "#Solving using Rational Function Approximation"
   ]
  },
  {
   "cell_type": "code",
   "execution_count": 90,
   "id": "000234e6",
   "metadata": {},
   "outputs": [
    {
     "name": "stdout",
     "output_type": "stream",
     "text": [
      "Help on function RFA_ABC in module Modules.RFA:\n",
      "\n",
      "RFA_ABC(V, dt, dx, m, k0)\n",
      "    The fucntions atke the inpur as, \n",
      "    \n",
      "    V - Potential array, \n",
      "    dt\n",
      "    dx, \n",
      "    mass which is fixed as 0.5\n",
      "    and k0, parameter for Gaussian\n",
      "    \n",
      "    This computes the required elements for changing ABCs.\n",
      "\n"
     ]
    }
   ],
   "source": [
    "help(RFA_ABC)"
   ]
  },
  {
   "cell_type": "code",
   "execution_count": 91,
   "id": "a9edc930",
   "metadata": {},
   "outputs": [
    {
     "data": {
      "text/plain": [
       "array([[     0.      +0.j   ,      0.      +0.j   ],\n",
       "       [ 51064.25-14259.525j,  51064.25-14259.525j],\n",
       "       [-51235.75 -6740.475j, -51235.75 -6740.475j],\n",
       "       [ 51064.25 -6740.475j,  51064.25 -6740.475j],\n",
       "       [-51235.75-14259.525j, -51235.75-14259.525j]])"
      ]
     },
     "execution_count": 91,
     "metadata": {},
     "output_type": "execute_result"
    }
   ],
   "source": [
    "rfa_zeta = RFA_ABC(V, dt, dx, m, k0)\n",
    "rfa_zeta"
   ]
  },
  {
   "cell_type": "code",
   "execution_count": 92,
   "id": "09a266a1",
   "metadata": {},
   "outputs": [
    {
     "name": "stdout",
     "output_type": "stream",
     "text": [
      "Help on function CN_RFA in module Modules.RFA:\n",
      "\n",
      "CN_RFA(J, V, RFA_zeta, dx, dt, m)\n",
      "    The function takes the input as, \n",
      "    J - length of array\n",
      "    V - Potential array\n",
      "    RFA_Zeta - ABC which is defined for Rational Functiuon Approximation\n",
      "    dx - grid step\n",
      "    dt - time step\n",
      "    m - mass which is fixed in our case as 0.5\n",
      "\n"
     ]
    }
   ],
   "source": [
    "help(CN_RFA)"
   ]
  },
  {
   "cell_type": "code",
   "execution_count": 93,
   "id": "99552494",
   "metadata": {},
   "outputs": [],
   "source": [
    "rfa_u1, rfa_u2 = CN_RFA(J, V, rfa_zeta, dx, dt, m)"
   ]
  },
  {
   "cell_type": "code",
   "execution_count": 94,
   "id": "bde8be0e",
   "metadata": {},
   "outputs": [
    {
     "name": "stdout",
     "output_type": "stream",
     "text": [
      "Help on function RFA_CN_Solve in module Modules.RFA:\n",
      "\n",
      "RFA_CN_Solve(x_Range, dx, t, dt, RFA_psi0, V, m, k0)\n",
      "    This fucntion solve the schrodinger wave equation for Linear Approximation method, knowing the fucntions, CM_LAM, \n",
      "    and LAM_ZETA\n",
      "    \n",
      "    This requires the input,\n",
      "\n"
     ]
    }
   ],
   "source": [
    "help(RFA_CN_Solve)"
   ]
  },
  {
   "cell_type": "code",
   "execution_count": 95,
   "id": "bfa6dc57",
   "metadata": {
    "scrolled": true
   },
   "outputs": [
    {
     "data": {
      "text/plain": [
       "array([[ 9.17510606e-23-1.12116119e-22j,  7.89881587e-23-1.09910594e-22j,\n",
       "         7.43938824e-23-1.16484458e-22j, ...,\n",
       "         2.05585324e-02-4.24322098e-02j,  1.81974180e-02-4.36282281e-02j,\n",
       "         1.57689395e-02-4.46913905e-02j],\n",
       "       [ 1.29092639e-22-1.19807127e-22j,  1.19754024e-22-1.07348321e-22j,\n",
       "         1.13176673e-22-1.05773683e-22j, ...,\n",
       "         1.56867986e-02-4.46245968e-02j,  1.32010589e-02-4.55474125e-02j,\n",
       "         1.06634405e-02-4.63305329e-02j],\n",
       "       [ 1.75272568e-22-1.22829488e-22j,  1.61205446e-22-1.02315962e-22j,\n",
       "         1.52477612e-22-9.25050570e-23j, ...,\n",
       "         1.04359412e-02-4.58775588e-02j,  7.87839390e-03-4.65058436e-02j,\n",
       "         5.28560541e-03-4.69905924e-02j],\n",
       "       ...,\n",
       "       [ 1.75272568e-22+1.22829488e-22j,  1.94530874e-22+1.49827744e-22j,\n",
       "         2.14618042e-22+1.80022100e-22j, ...,\n",
       "        -3.79410880e-05-3.20402433e-06j, -3.77356628e-05-2.93820861e-06j,\n",
       "        -3.75298581e-05-2.67561606e-06j],\n",
       "       [ 1.29092639e-22+1.19807127e-22j,  1.40442287e-22+1.43251958e-22j,\n",
       "         1.51044221e-22+1.69166106e-22j, ...,\n",
       "        -3.85627467e-05-3.89367903e-06j, -3.83577472e-05-3.61891007e-06j,\n",
       "        -3.81522999e-05-3.34742882e-06j],\n",
       "       [ 9.17510606e-23+1.12116119e-22j,  9.54373226e-23+1.32668788e-22j,\n",
       "         9.81963758e-23+1.54213040e-22j, ...,\n",
       "        -3.90787540e-05-4.66159960e-06j, -3.88754408e-05-4.37805381e-06j,\n",
       "        -3.86716037e-05-4.09784967e-06j]])"
      ]
     },
     "execution_count": 95,
     "metadata": {},
     "output_type": "execute_result"
    }
   ],
   "source": [
    "rfa_psi =RFA_CN_Solve(x_Range, dx, t, dt, psi0, V, m, k0)\n",
    "rfa_psi"
   ]
  },
  {
   "cell_type": "code",
   "execution_count": 96,
   "id": "cdbf2917",
   "metadata": {
    "scrolled": true
   },
   "outputs": [
    {
     "data": {
      "image/png": "[encoded data removed]",
      "text/plain": [
       "<Figure size 432x288 with 1 Axes>"
      ]
     },
     "metadata": {
      "needs_background": "light"
     },
     "output_type": "display_data"
    },
    {
     "data": {
      "image/png": "[encoded data removed]",
      "text/plain": [
       "<Figure size 432x288 with 1 Axes>"
      ]
     },
     "metadata": {
      "needs_background": "light"
     },
     "output_type": "display_data"
    },
    {
     "data": {
      "image/png": "[encoded data removed]",
      "text/plain": [
       "<Figure size 432x288 with 1 Axes>"
      ]
     },
     "metadata": {
      "needs_background": "light"
     },
     "output_type": "display_data"
    },
    {
     "data": {
      "image/png": "[encoded data removed]",
      "text/plain": [
       "<Figure size 432x288 with 1 Axes>"
      ]
     },
     "metadata": {
      "needs_background": "light"
     },
     "output_type": "display_data"
    },
    {
     "data": {
      "image/png": "[encoded data removed]",
      "text/plain": [
       "<Figure size 432x288 with 1 Axes>"
      ]
     },
     "metadata": {
      "needs_background": "light"
     },
     "output_type": "display_data"
    }
   ],
   "source": [
    "x_range = [-10, 10]\n",
    "y_range = [0, 0.7]\n",
    "\n",
    "\n",
    "for i in range(0, 1500, 300):\n",
    "    \n",
    "    plt.figure()\n",
    "    plt.plot(x_Range, np.absolute(lam_psi[:, i])**2)\n",
    "    \n",
    "    plt.xlim(x_range)\n",
    "    plt.ylim(y_range)\n",
    "    \n",
    "    \n",
    "#The reflection vanished"
   ]
  },
  {
   "cell_type": "code",
   "execution_count": null,
   "id": "6b5243bb",
   "metadata": {},
   "outputs": [],
   "source": []
  },
  {
   "cell_type": "markdown",
   "id": "f2d371ac",
   "metadata": {},
   "source": [
    "# p=2"
   ]
  },
  {
   "cell_type": "code",
   "execution_count": null,
   "id": "a40c4c95",
   "metadata": {},
   "outputs": [],
   "source": []
  },
  {
   "cell_type": "code",
   "execution_count": 97,
   "id": "6b8f29ee",
   "metadata": {},
   "outputs": [
    {
     "name": "stdout",
     "output_type": "stream",
     "text": [
      "Help on function P2_ABC in module Modules.P2_ABC:\n",
      "\n",
      "P2_ABC(q1, q2, V, dt, dx, m=0.5)\n",
      "    ABC with p=2. This function computes the matrix zeta, for substituting in Crank Nikolson method.\n",
      "\n"
     ]
    }
   ],
   "source": [
    "help(P2_ABC)"
   ]
  },
  {
   "cell_type": "code",
   "execution_count": 98,
   "id": "22c36182",
   "metadata": {},
   "outputs": [
    {
     "data": {
      "text/plain": [
       "array([[ 0.    +0.j        ,  0.    +0.j        ],\n",
       "       [-0.875-61.28928571j, -0.875-61.28928571j],\n",
       "       [-0.875-10.13928571j, -0.875-10.13928571j],\n",
       "       [ 0.875-10.13928571j,  0.875-10.13928571j],\n",
       "       [ 0.875-61.28928571j,  0.875-61.28928571j]])"
      ]
     },
     "execution_count": 98,
     "metadata": {},
     "output_type": "execute_result"
    }
   ],
   "source": [
    "p2_zeta = P2_ABC(q, q, V, dt, dx, m)\n",
    "p2_zeta"
   ]
  },
  {
   "cell_type": "code",
   "execution_count": 99,
   "id": "74783b35",
   "metadata": {},
   "outputs": [
    {
     "name": "stdout",
     "output_type": "stream",
     "text": [
      "Help on function CN_P2 in module Modules.P2_ABC:\n",
      "\n",
      "CN_P2(J, V, zeta, dx, dt, m)\n",
      "    The function takes the input as, \n",
      "    J - length of array\n",
      "    V - Potential array\n",
      "    P2_Zeta - ABC which is defined for P = 2 Absorbing boundary Conditions\n",
      "    dx - grid step\n",
      "    dt - time step\n",
      "    m - mass which is fixed in our case as 0.5\n",
      "\n"
     ]
    }
   ],
   "source": [
    "help(CN_P2)"
   ]
  },
  {
   "cell_type": "code",
   "execution_count": 100,
   "id": "448b5ac8",
   "metadata": {},
   "outputs": [],
   "source": [
    "p2_u1, p2_u2 = CN_P2(J, V, p2_zeta, dx, dt, m)"
   ]
  },
  {
   "cell_type": "code",
   "execution_count": 101,
   "id": "fd1779dd",
   "metadata": {},
   "outputs": [
    {
     "name": "stdout",
     "output_type": "stream",
     "text": [
      "Help on function p2_Solve_CN in module Modules.P2_ABC:\n",
      "\n",
      "p2_Solve_CN(x_Range, dx, t, dt, psi0, V, m, p2_zeta)\n",
      "    This fucntion solves the Crank Niksolson metod matrix, and obtains the direct result of wave fucntion, \n",
      "    provided we properly defines the initial wave fucntion.\n",
      "    \n",
      "    Input taken, are x_Range,\n",
      "    grid step, time step\n",
      "    and initial wave fucntion, at t = 0\n",
      "    Potential array\n",
      "    m- which is fixed in our case as 0.5\n",
      "    p2_zeta is required, which is amtrix obtained from P2Zeta functions\n",
      "\n"
     ]
    }
   ],
   "source": [
    "help(p2_Solve_CN)"
   ]
  },
  {
   "cell_type": "code",
   "execution_count": 102,
   "id": "6185105c",
   "metadata": {},
   "outputs": [],
   "source": [
    "p2_psi = p2_Solve_CN(x_Range, dx, t, dt, psi0, V, m, p2_zeta)"
   ]
  },
  {
   "cell_type": "code",
   "execution_count": 103,
   "id": "816d033c",
   "metadata": {
    "scrolled": true
   },
   "outputs": [
    {
     "data": {
      "image/png": "[encoded data removed]",
      "text/plain": [
       "<Figure size 432x288 with 1 Axes>"
      ]
     },
     "metadata": {
      "needs_background": "light"
     },
     "output_type": "display_data"
    },
    {
     "data": {
      "image/png": "[encoded data removed]",
      "text/plain": [
       "<Figure size 432x288 with 1 Axes>"
      ]
     },
     "metadata": {
      "needs_background": "light"
     },
     "output_type": "display_data"
    },
    {
     "data": {
      "image/png": "[encoded data removed]",
      "text/plain": [
       "<Figure size 432x288 with 1 Axes>"
      ]
     },
     "metadata": {
      "needs_background": "light"
     },
     "output_type": "display_data"
    },
    {
     "data": {
      "image/png": "[encoded data removed]",
      "text/plain": [
       "<Figure size 432x288 with 1 Axes>"
      ]
     },
     "metadata": {
      "needs_background": "light"
     },
     "output_type": "display_data"
    },
    {
     "data": {
      "image/png": "[encoded data removed]",
      "text/plain": [
       "<Figure size 432x288 with 1 Axes>"
      ]
     },
     "metadata": {
      "needs_background": "light"
     },
     "output_type": "display_data"
    }
   ],
   "source": [
    "x_range = [-10, 10]\n",
    "y_range = [0, 0.7]\n",
    "\n",
    "\n",
    "for i in range(0, 1500, 300):\n",
    "    \n",
    "    plt.figure()\n",
    "    plt.plot(x_Range, np.absolute(p2_psi[:, i])**2)\n",
    "    \n",
    "    plt.xlim(x_range)\n",
    "    plt.ylim(y_range)\n",
    "    \n",
    "    \n",
    "#The reflection vanished"
   ]
  },
  {
   "cell_type": "code",
   "execution_count": null,
   "id": "d7c1d0bf",
   "metadata": {},
   "outputs": [],
   "source": []
  },
  {
   "cell_type": "markdown",
   "id": "66d466f9",
   "metadata": {},
   "source": [
    "# p=3"
   ]
  },
  {
   "cell_type": "code",
   "execution_count": null,
   "id": "eace132e",
   "metadata": {},
   "outputs": [],
   "source": []
  },
  {
   "cell_type": "code",
   "execution_count": 105,
   "id": "6ce12456",
   "metadata": {},
   "outputs": [
    {
     "name": "stdout",
     "output_type": "stream",
     "text": [
      "Help on function P3_ZETA in module Modules.P3_ABC:\n",
      "\n",
      "P3_ZETA(q1, q2, q3, V, dt, dx, m)\n",
      "    Here, we take input of q1, q2, and q3, which are variables in terms of k0,\n",
      "    potential array, \n",
      "    dt, \n",
      "    dx\n",
      "    and mass which is fixed as 0.5. \n",
      "    \n",
      "    \n",
      "    The code computes the zeta matrix, for the ABC for p = 3. This is derived in our report.\n",
      "\n"
     ]
    }
   ],
   "source": [
    "help(P3_ZETA)"
   ]
  },
  {
   "cell_type": "code",
   "execution_count": 106,
   "id": "6c12ac81",
   "metadata": {},
   "outputs": [
    {
     "data": {
      "text/plain": [
       "array([[     0.      +0.j   ,      0.      +0.j   ],\n",
       "       [ 51064.25-14259.525j,  51064.25-14259.525j],\n",
       "       [-51235.75 -6740.475j, -51235.75 -6740.475j],\n",
       "       [ 51235.75 -6740.475j,  51235.75 -6740.475j],\n",
       "       [-51064.25-14259.525j, -51064.25-14259.525j]])"
      ]
     },
     "execution_count": 106,
     "metadata": {},
     "output_type": "execute_result"
    }
   ],
   "source": [
    "p3_zeta = P3_ZETA(q, q, q, V, dt, dx, m)\n",
    "p3_zeta"
   ]
  },
  {
   "cell_type": "code",
   "execution_count": 107,
   "id": "af0a49f0",
   "metadata": {},
   "outputs": [
    {
     "name": "stdout",
     "output_type": "stream",
     "text": [
      "Help on function CN_P3 in module Modules.P3_ABC:\n",
      "\n",
      "CN_P3(J, V, p3_zeta, dx, dt, m)\n",
      "    The function takes the input as, \n",
      "    J - length of array\n",
      "    V - Potential array\n",
      "    P2_Zeta - ABC which is defined for P = 2 Absorbing boundary Conditions\n",
      "    dx - grid step\n",
      "    dt - time step\n",
      "    m - mass which is fixed in our case as 0.5\n",
      "\n"
     ]
    }
   ],
   "source": [
    "help(CN_P3)"
   ]
  },
  {
   "cell_type": "code",
   "execution_count": 108,
   "id": "9edad440",
   "metadata": {},
   "outputs": [],
   "source": [
    "p3_u1, p3_u2 = CN_P3(J, V, p3_zeta, dt, dx, m)\n"
   ]
  },
  {
   "cell_type": "code",
   "execution_count": 109,
   "id": "8248d8c0",
   "metadata": {},
   "outputs": [
    {
     "name": "stdout",
     "output_type": "stream",
     "text": [
      "Help on function p3_Solve_CN in module Modules.P3_ABC:\n",
      "\n",
      "p3_Solve_CN(x_Range, dx, t, dt, psi0, V, m, p3_zeta)\n",
      "    This fucntion solves the Crank Niksolson metod matrix, and obtains the direct result of wave fucntion, \n",
      "    provided we properly defines the initial wave fucntion.\n",
      "    \n",
      "    Input taken, are x_Range,\n",
      "    grid step, time step\n",
      "    and initial wave fucntion, at t = 0\n",
      "    Potential array\n",
      "    m- which is fixed in our case as 0.5\n",
      "    p3_zeta is required, the matrix which is obtained by P3ZETA fucntion\n",
      "\n"
     ]
    }
   ],
   "source": [
    "help(p3_Solve_CN)"
   ]
  },
  {
   "cell_type": "code",
   "execution_count": 110,
   "id": "4606d541",
   "metadata": {},
   "outputs": [],
   "source": [
    "p3_psi = p3_Solve_CN(x_Range, dx, t, dt, psi0, V, m, p3_zeta)"
   ]
  },
  {
   "cell_type": "code",
   "execution_count": 111,
   "id": "6eb471cd",
   "metadata": {
    "scrolled": true
   },
   "outputs": [
    {
     "data": {
      "image/png": "[encoded data removed]",
      "text/plain": [
       "<Figure size 432x288 with 1 Axes>"
      ]
     },
     "metadata": {
      "needs_background": "light"
     },
     "output_type": "display_data"
    },
    {
     "data": {
      "image/png": "[encoded data removed]",
      "text/plain": [
       "<Figure size 432x288 with 1 Axes>"
      ]
     },
     "metadata": {
      "needs_background": "light"
     },
     "output_type": "display_data"
    },
    {
     "data": {
      "image/png": "[encoded data removed]",
      "text/plain": [
       "<Figure size 432x288 with 1 Axes>"
      ]
     },
     "metadata": {
      "needs_background": "light"
     },
     "output_type": "display_data"
    },
    {
     "data": {
      "image/png": "[encoded data removed]",
      "text/plain": [
       "<Figure size 432x288 with 1 Axes>"
      ]
     },
     "metadata": {
      "needs_background": "light"
     },
     "output_type": "display_data"
    },
    {
     "data": {
      "image/png": "[encoded data removed]",
      "text/plain": [
       "<Figure size 432x288 with 1 Axes>"
      ]
     },
     "metadata": {
      "needs_background": "light"
     },
     "output_type": "display_data"
    }
   ],
   "source": [
    "x_range = [-10, 10]\n",
    "y_range = [0, 0.7]\n",
    "\n",
    "\n",
    "for i in range(0, 1500, 300):\n",
    "    \n",
    "    plt.figure()\n",
    "    plt.plot(x_Range, np.absolute(p3_psi[:, i])**2)\n",
    "    \n",
    "    plt.xlim(x_range)\n",
    "    plt.ylim(y_range)\n",
    "    \n",
    "    \n",
    "#The reflection vanished"
   ]
  },
  {
   "cell_type": "code",
   "execution_count": null,
   "id": "930e2832",
   "metadata": {},
   "outputs": [],
   "source": []
  },
  {
   "cell_type": "markdown",
   "id": "5b4902a1",
   "metadata": {},
   "source": [
    "# p=4"
   ]
  },
  {
   "cell_type": "code",
   "execution_count": 113,
   "id": "ea3c2cfb",
   "metadata": {},
   "outputs": [],
   "source": [
    "from Modules.P4_ABC import Z_matrix"
   ]
  },
  {
   "cell_type": "code",
   "execution_count": 114,
   "id": "3b456ccf",
   "metadata": {},
   "outputs": [
    {
     "name": "stdout",
     "output_type": "stream",
     "text": [
      "Help on function P4_ABC in module Modules.P4_ABC:\n",
      "\n",
      "P4_ABC(q1, q2, q3, q4, V, dt, dx, m)\n",
      "    ABC with p=4, \n",
      "    This code also computes the matrix for zeta, for p = 4. \n",
      "    This gives the first and last row elements for new matrix for Crank Nikolson method\n",
      "\n"
     ]
    }
   ],
   "source": [
    "help(P4_ABC)"
   ]
  },
  {
   "cell_type": "code",
   "execution_count": 115,
   "id": "89e07417",
   "metadata": {},
   "outputs": [
    {
     "data": {
      "text/plain": [
       "array([[       0.       +0.j ,        0.       +0.j ],\n",
       "       [-1931599.75+182088.9j, -1931599.75+182088.9j],\n",
       "       [  932800.25+111911.1j,   932800.25+111911.1j],\n",
       "       [-2432800.25+111911.1j, -2432800.25+111911.1j],\n",
       "       [  431599.75+182088.9j,   431599.75+182088.9j],\n",
       "       [  500000.       +0.j ,        0.       +0.j ],\n",
       "       [  500000.       +0.j ,        0.       +0.j ]])"
      ]
     },
     "execution_count": 115,
     "metadata": {},
     "output_type": "execute_result"
    }
   ],
   "source": [
    "p4_zeta = P4_ABC(q, q, q, q, V, dt, dx, m)\n",
    "p4_zeta"
   ]
  },
  {
   "cell_type": "code",
   "execution_count": 116,
   "id": "130ea92b",
   "metadata": {},
   "outputs": [
    {
     "name": "stdout",
     "output_type": "stream",
     "text": [
      "Help on function Z_matrix in module Modules.P4_ABC:\n",
      "\n",
      "Z_matrix(J, p4_zeta)\n",
      "    The function computes the Z Matrix which is required to obtain the necessary solutions. \n",
      "    The derivation of this matrix is shown in our report.\n",
      "    \n",
      "    The input required for this function is just J (len of grid points), \n",
      "    and zeta matrix for p = 3\n",
      "\n"
     ]
    }
   ],
   "source": [
    "help(Z_matrix)"
   ]
  },
  {
   "cell_type": "code",
   "execution_count": 117,
   "id": "14877e7c",
   "metadata": {},
   "outputs": [],
   "source": [
    "Z = Z_matrix(J, p4_zeta)"
   ]
  },
  {
   "cell_type": "code",
   "execution_count": 118,
   "id": "92dedde2",
   "metadata": {},
   "outputs": [
    {
     "name": "stdout",
     "output_type": "stream",
     "text": [
      "Help on function CN_P4 in module Modules.P4_ABC:\n",
      "\n",
      "CN_P4(J, V, p4_zeta, dx, dt, m)\n",
      "    The function takes the input as, \n",
      "    J - length of array\n",
      "    V - Potential array\n",
      "    4_Zeta - ABC which is defined for P = 4 Absorbing boundary Conditions\n",
      "    dx - grid step\n",
      "    dt - time step\n",
      "    m - mass which is fixed in our case as 0.5\n",
      "    \n",
      "    This also requires the initial matrixces of crank nikolson mathod, the reason for them is well shown in \n",
      "    our report.\n",
      "\n"
     ]
    }
   ],
   "source": [
    "help(CN_P4)"
   ]
  },
  {
   "cell_type": "code",
   "execution_count": 119,
   "id": "2821682c",
   "metadata": {},
   "outputs": [],
   "source": [
    "p4_u1, p4_u2, w1, w2 = CN_P4(J, V, p4_zeta, dx, dt, m)"
   ]
  },
  {
   "cell_type": "code",
   "execution_count": null,
   "id": "7763f2d1",
   "metadata": {},
   "outputs": [],
   "source": []
  },
  {
   "cell_type": "code",
   "execution_count": 120,
   "id": "023e0ce1",
   "metadata": {},
   "outputs": [
    {
     "name": "stdout",
     "output_type": "stream",
     "text": [
      "Help on function p4_Solve_CN in module Modules.P4_ABC:\n",
      "\n",
      "p4_Solve_CN(x_Range, dx, t, dt, psi0, V, m, p4_zeta, Z)\n",
      "    This fucntion solves the Crank Niksolson metod matrix, and obtains the direct result of wave fucntion, \n",
      "    provided we properly defines the initial wave fucntion.\n",
      "    \n",
      "    Input taken, are x_Range,\n",
      "    grid step, time step\n",
      "    and initial wave fucntion, at t = 0\n",
      "    Potential array\n",
      "    m- which is fixed in our case as 0.5\n",
      "    p4_zeta is required for the fucntioning of this functions, otherwise,\n",
      "    it is giving error for defining itwithin a fucntion\n",
      "    \n",
      "    Z is the Z matrix that is newly obtained in the code only for p =4\n",
      "\n"
     ]
    }
   ],
   "source": [
    "help(p4_Solve_CN)"
   ]
  },
  {
   "cell_type": "code",
   "execution_count": 121,
   "id": "6420c509",
   "metadata": {},
   "outputs": [],
   "source": [
    "p4_psi = p4_Solve_CN(x_Range, dx, t, dt, psi0, V, m, p4_zeta, Z)"
   ]
  },
  {
   "cell_type": "code",
   "execution_count": 122,
   "id": "28c5243f",
   "metadata": {
    "scrolled": true
   },
   "outputs": [
    {
     "data": {
      "image/png": "[encoded data removed]",
      "text/plain": [
       "<Figure size 432x288 with 1 Axes>"
      ]
     },
     "metadata": {
      "needs_background": "light"
     },
     "output_type": "display_data"
    },
    {
     "data": {
      "image/png": "[encoded data removed]",
      "text/plain": [
       "<Figure size 432x288 with 1 Axes>"
      ]
     },
     "metadata": {
      "needs_background": "light"
     },
     "output_type": "display_data"
    },
    {
     "data": {
      "image/png": "[encoded data removed]",
      "text/plain": [
       "<Figure size 432x288 with 1 Axes>"
      ]
     },
     "metadata": {
      "needs_background": "light"
     },
     "output_type": "display_data"
    },
    {
     "data": {
      "image/png": "[encoded data removed]",
      "text/plain": [
       "<Figure size 432x288 with 1 Axes>"
      ]
     },
     "metadata": {
      "needs_background": "light"
     },
     "output_type": "display_data"
    },
    {
     "data": {
      "image/png": "[encoded data removed]",
      "text/plain": [
       "<Figure size 432x288 with 1 Axes>"
      ]
     },
     "metadata": {
      "needs_background": "light"
     },
     "output_type": "display_data"
    }
   ],
   "source": [
    "x_range = [-10, 10]\n",
    "y_range = [0, 0.7]\n",
    "\n",
    "\n",
    "for i in range(0, 1500, 300):\n",
    "    \n",
    "    plt.figure()\n",
    "    plt.plot(x_Range, np.absolute(p4_psi[:, i])**2)\n",
    "    \n",
    "    plt.xlim(x_range)\n",
    "    plt.ylim(y_range)\n",
    "    \n",
    "    \n",
    "#The reflection vanished"
   ]
  },
  {
   "cell_type": "code",
   "execution_count": null,
   "id": "310efccf",
   "metadata": {},
   "outputs": [],
   "source": []
  },
  {
   "cell_type": "code",
   "execution_count": 123,
   "id": "f4084979",
   "metadata": {
    "scrolled": true
   },
   "outputs": [
    {
     "data": {
      "text/plain": [
       "array([[ 9.17510606e-23-1.12116119e-22j,  1.27027511e-22-1.15552272e-22j,\n",
       "         1.42837257e-22-9.32794240e-23j, ...,\n",
       "         1.38310958e-04+5.13825559e-05j,  1.45614925e-04+4.07869779e-05j,\n",
       "         1.52129737e-04+2.95652020e-05j],\n",
       "       [ 1.29092639e-22-1.19807127e-22j,  1.42463892e-22-9.55206542e-23j,\n",
       "         1.57929766e-22-7.98877550e-23j, ...,\n",
       "         1.50404248e-04+2.62429851e-05j,  1.55800114e-04+1.43950427e-05j,\n",
       "         1.60309932e-04+2.06182795e-06j],\n",
       "       [ 1.75272568e-22-1.22829488e-22j,  1.67627274e-22-9.03790947e-23j,\n",
       "         1.75245560e-22-6.34286338e-23j, ...,\n",
       "         1.58067857e-04-1.12475338e-06j,  1.61358042e-04-1.38934963e-05j,\n",
       "         1.63689487e-04-2.69923900e-05j],\n",
       "       ...,\n",
       "       [ 1.75272568e-22+1.22829488e-22j,  1.99154838e-22+1.53045453e-22j,\n",
       "         2.30596404e-22+1.86999921e-22j, ...,\n",
       "        -2.22253101e-05+5.51057185e-06j, -2.20491606e-05+5.62368949e-06j,\n",
       "        -2.18734875e-05+5.73477669e-06j],\n",
       "       [ 1.29092639e-22+1.19807127e-22j,  1.51083298e-22+1.43367828e-22j,\n",
       "         1.76247168e-22+1.68895971e-22j, ...,\n",
       "        -2.27041256e-05+3.81774058e-06j, -2.25360361e-05+3.94487420e-06j,\n",
       "        -2.23682679e-05+4.06993258e-06j],\n",
       "       [ 9.17510606e-23+1.12116119e-22j,  1.12183956e-22+1.21548493e-22j,\n",
       "         1.32240258e-22+1.43697669e-22j, ...,\n",
       "        -2.31339504e-05+2.06060266e-06j, -2.29747174e-05+2.20187261e-06j,\n",
       "        -2.28156439e-05+2.34102738e-06j]])"
      ]
     },
     "execution_count": 123,
     "metadata": {},
     "output_type": "execute_result"
    }
   ],
   "source": [
    "p2_psi"
   ]
  },
  {
   "cell_type": "code",
   "execution_count": 124,
   "id": "e60bbae5",
   "metadata": {
    "scrolled": true
   },
   "outputs": [
    {
     "data": {
      "text/plain": [
       "array([[ 9.17510606e-23-1.12116119e-22j,  8.02185943e-23-1.09905238e-22j,\n",
       "         7.71447426e-23-1.15872971e-22j, ...,\n",
       "         2.07407251e-04-4.20483306e-04j,  1.83366002e-04-4.31571663e-04j,\n",
       "         1.58758847e-04-4.41272666e-04j],\n",
       "       [ 1.29092639e-22-1.19807127e-22j,  1.20291093e-22-1.06979774e-22j,\n",
       "         1.14761110e-22-1.04737756e-22j, ...,\n",
       "         1.43844823e-04-4.46506033e-04j,  1.18461529e-04-4.53952919e-04j,\n",
       "         9.27224137e-05-4.59947694e-04j],\n",
       "       [ 1.75272568e-22-1.22829488e-22j,  1.61330878e-22-1.01994776e-22j,\n",
       "         1.53124062e-22-9.14347792e-23j, ...,\n",
       "         7.71602202e-05-4.62902805e-04j,  5.09865951e-05-4.66556335e-04j,\n",
       "         2.46738444e-05-4.68724765e-04j],\n",
       "       ...,\n",
       "       [ 1.75272568e-22+1.22829488e-22j,  1.94203937e-22+1.49937316e-22j,\n",
       "         2.13439240e-22+1.80612850e-22j, ...,\n",
       "        -2.50031064e-05+3.83415862e-06j, -2.48232380e-05+3.97571667e-06j,\n",
       "        -2.46436745e-05+4.11504145e-06j],\n",
       "       [ 1.29092639e-22+1.19807127e-22j,  1.40047911e-22+1.43770358e-22j,\n",
       "         1.49807156e-22+1.70776989e-22j, ...,\n",
       "        -2.55163819e-05+2.32334330e-06j, -2.53430699e-05+2.47806128e-06j,\n",
       "        -2.51699251e-05+2.63049334e-06j],\n",
       "       [ 9.17510606e-23+1.12116119e-22j,  9.53717896e-23+1.33897489e-22j,\n",
       "         9.73398951e-23+1.57186761e-22j, ...,\n",
       "        -2.59700830e-05+7.46254863e-07j, -2.58042047e-05+9.14193808e-07j,\n",
       "        -2.56383487e-05+1.07979994e-06j]])"
      ]
     },
     "execution_count": 124,
     "metadata": {},
     "output_type": "execute_result"
    }
   ],
   "source": [
    "p3_psi"
   ]
  },
  {
   "cell_type": "code",
   "execution_count": 125,
   "id": "bb6e549d",
   "metadata": {
    "scrolled": true
   },
   "outputs": [
    {
     "data": {
      "text/plain": [
       "array([[ 9.17510606e-23-1.12116119e-22j, -2.39520874e-23-4.72985103e-23j,\n",
       "        -1.23051942e-22-4.00062941e-23j, ...,\n",
       "        -3.49361857e-04-7.24634528e-04j, -3.89517563e-04-7.03871527e-04j,\n",
       "        -4.28401579e-04-6.80898438e-04j],\n",
       "       [ 1.29092639e-22-1.19807127e-22j,  5.60539454e-23-1.10574970e-22j,\n",
       "        -4.03408002e-23-9.80347072e-23j, ...,\n",
       "        -4.51627514e-04-6.66598824e-04j, -4.88308899e-04-6.40203145e-04j,\n",
       "        -5.23411247e-04-6.11810393e-04j],\n",
       "       [ 1.75272568e-22-1.22829488e-22j,  1.34278982e-22-1.22686980e-22j,\n",
       "         5.37375130e-23-1.33540365e-22j, ...,\n",
       "        -5.44194891e-04-5.94251667e-04j, -5.76620822e-04-5.62805800e-04j,\n",
       "        -6.07196008e-04-5.29617962e-04j],\n",
       "       ...,\n",
       "       [ 1.75272568e-22+1.22829488e-22j,  2.30821737e-22+1.39631403e-22j,\n",
       "         3.14365196e-22+1.22958665e-22j, ...,\n",
       "        -2.59391980e-05+2.75974015e-06j, -2.57621042e-05+2.91329121e-06j,\n",
       "        -2.55852133e-05+3.06455829e-06j],\n",
       "       [ 1.29092639e-22+1.19807127e-22j,  1.86307460e-22+8.87802646e-23j,\n",
       "         2.45720628e-22+3.57853287e-23j, ...,\n",
       "        -2.64926224e-05+1.31858295e-06j, -2.63213640e-05+1.48519320e-06j,\n",
       "        -2.61501763e-05+1.64946171e-06j],\n",
       "       [ 9.17510606e-23+1.12116119e-22j,  1.09236913e-22-1.13905214e-24j,\n",
       "         1.69121318e-22-5.77371417e-23j, ...,\n",
       "        -2.69819164e-05-1.88043926e-07j, -2.68173920e-05-8.35050970e-09j,\n",
       "        -2.66527989e-05+1.68949529e-07j]])"
      ]
     },
     "execution_count": 125,
     "metadata": {},
     "output_type": "execute_result"
    }
   ],
   "source": [
    "p4_psi"
   ]
  },
  {
   "cell_type": "code",
   "execution_count": 126,
   "id": "987d7176",
   "metadata": {
    "scrolled": true
   },
   "outputs": [
    {
     "data": {
      "text/plain": [
       "array([[ 9.17510606e-23-1.12116119e-22j,  1.23072249e-22-1.17459304e-22j,\n",
       "         1.38533623e-22-9.85648076e-23j, ...,\n",
       "        -1.45309575e-03+2.23654462e-03j, -1.31693062e-03+2.30804196e-03j,\n",
       "        -1.17745839e-03+2.37122430e-03j],\n",
       "       [ 1.29092639e-22-1.19807127e-22j,  1.41299920e-22-9.75326866e-23j,\n",
       "         1.55730412e-22-8.41832185e-23j, ...,\n",
       "        -1.09277132e-03+2.41599893e-03j, -9.48354022e-04+2.46567998e-03j,\n",
       "        -8.01950795e-04+2.50670980e-03j],\n",
       "       [ 1.75272568e-22-1.22829488e-22j,  1.67716529e-22-9.16063493e-23j,\n",
       "         1.74943020e-22-6.68324759e-23j, ...,\n",
       "        -7.11811525e-04+2.54068360e-03j, -5.62435010e-04+2.56769047e-03j,\n",
       "        -4.12421113e-04+2.58590754e-03j],\n",
       "       ...,\n",
       "       [ 1.75272568e-22+1.22829488e-22j,  1.99650091e-22+1.52176515e-22j,\n",
       "         2.31562247e-22+1.83964730e-22j, ...,\n",
       "        -2.34434850e-05+5.06780577e-06j, -2.32632221e-05+5.19185691e-06j,\n",
       "        -2.30833775e-05+5.31376367e-06j],\n",
       "       [ 1.29092639e-22+1.19807127e-22j,  1.50934134e-22+1.41484374e-22j,\n",
       "         1.75672185e-22+1.64303874e-22j, ...,\n",
       "        -2.39208835e-05+3.44920806e-06j, -2.37481945e-05+3.58681686e-06j,\n",
       "        -2.35757734e-05+3.72223971e-06j],\n",
       "       [ 9.17510606e-23+1.12116119e-22j,  1.09950602e-22+1.18764548e-22j,\n",
       "         1.29493650e-22+1.37760151e-22j, ...,\n",
       "        -2.43452665e-05+1.76455609e-06j, -2.41809899e-05+1.91582211e-06j,\n",
       "        -2.40168248e-05+2.06486626e-06j]])"
      ]
     },
     "execution_count": 126,
     "metadata": {},
     "output_type": "execute_result"
    }
   ],
   "source": [
    "lam_psi"
   ]
  },
  {
   "cell_type": "code",
   "execution_count": 127,
   "id": "0ff975f7",
   "metadata": {
    "scrolled": true
   },
   "outputs": [
    {
     "data": {
      "text/plain": [
       "array([[ 9.17510606e-23-1.12116119e-22j,  7.89881587e-23-1.09910594e-22j,\n",
       "         7.43938824e-23-1.16484458e-22j, ...,\n",
       "         2.05585324e-02-4.24322098e-02j,  1.81974180e-02-4.36282281e-02j,\n",
       "         1.57689395e-02-4.46913905e-02j],\n",
       "       [ 1.29092639e-22-1.19807127e-22j,  1.19754024e-22-1.07348321e-22j,\n",
       "         1.13176673e-22-1.05773683e-22j, ...,\n",
       "         1.56867986e-02-4.46245968e-02j,  1.32010589e-02-4.55474125e-02j,\n",
       "         1.06634405e-02-4.63305329e-02j],\n",
       "       [ 1.75272568e-22-1.22829488e-22j,  1.61205446e-22-1.02315962e-22j,\n",
       "         1.52477612e-22-9.25050570e-23j, ...,\n",
       "         1.04359412e-02-4.58775588e-02j,  7.87839390e-03-4.65058436e-02j,\n",
       "         5.28560541e-03-4.69905924e-02j],\n",
       "       ...,\n",
       "       [ 1.75272568e-22+1.22829488e-22j,  1.94530874e-22+1.49827744e-22j,\n",
       "         2.14618042e-22+1.80022100e-22j, ...,\n",
       "        -3.79410880e-05-3.20402433e-06j, -3.77356628e-05-2.93820861e-06j,\n",
       "        -3.75298581e-05-2.67561606e-06j],\n",
       "       [ 1.29092639e-22+1.19807127e-22j,  1.40442287e-22+1.43251958e-22j,\n",
       "         1.51044221e-22+1.69166106e-22j, ...,\n",
       "        -3.85627467e-05-3.89367903e-06j, -3.83577472e-05-3.61891007e-06j,\n",
       "        -3.81522999e-05-3.34742882e-06j],\n",
       "       [ 9.17510606e-23+1.12116119e-22j,  9.54373226e-23+1.32668788e-22j,\n",
       "         9.81963758e-23+1.54213040e-22j, ...,\n",
       "        -3.90787540e-05-4.66159960e-06j, -3.88754408e-05-4.37805381e-06j,\n",
       "        -3.86716037e-05-4.09784967e-06j]])"
      ]
     },
     "execution_count": 127,
     "metadata": {},
     "output_type": "execute_result"
    }
   ],
   "source": [
    "rfa_psi"
   ]
  },
  {
   "cell_type": "code",
   "execution_count": null,
   "id": "294188d3",
   "metadata": {},
   "outputs": [],
   "source": []
  },
  {
   "cell_type": "code",
   "execution_count": 128,
   "id": "c444ffe2",
   "metadata": {},
   "outputs": [],
   "source": [
    "#Now, here comparing all the different methods using Reflection. "
   ]
  },
  {
   "cell_type": "code",
   "execution_count": null,
   "id": "b4b7bccf",
   "metadata": {},
   "outputs": [],
   "source": []
  },
  {
   "cell_type": "code",
   "execution_count": 129,
   "id": "cb2bdb4f",
   "metadata": {},
   "outputs": [],
   "source": [
    "#Plotting  the graph of Reflectivity."
   ]
  },
  {
   "cell_type": "code",
   "execution_count": null,
   "id": "72584355",
   "metadata": {},
   "outputs": [],
   "source": []
  },
  {
   "cell_type": "code",
   "execution_count": 130,
   "id": "4c7695ac",
   "metadata": {},
   "outputs": [
    {
     "data": {
      "text/plain": [
       "[1.0,\n",
       " 0.9999999999999999,\n",
       " 1.0000000000000007,\n",
       " 1.0000000000000027,\n",
       " 1.0000000000000027,\n",
       " 1.0000000000000022,\n",
       " 1.0000000000000022,\n",
       " 1.000000000000004,\n",
       " 1.0000000000000029,\n",
       " 1.0000000000000042,\n",
       " 1.0000000000000049,\n",
       " 1.000000000000004,\n",
       " 1.0000000000000049,\n",
       " 1.0000000000000056,\n",
       " 1.0000000000000064,\n",
       " 1.0000000000000067,\n",
       " 1.0000000000000075,\n",
       " 1.000000000000008,\n",
       " 1.0000000000000082,\n",
       " 1.0000000000000078,\n",
       " 1.0000000000000082,\n",
       " 1.0000000000000098,\n",
       " 1.0000000000000107,\n",
       " 1.0000000000000113,\n",
       " 1.0000000000000104,\n",
       " 1.0000000000000113,\n",
       " 1.0000000000000122,\n",
       " 1.0000000000000124,\n",
       " 1.000000000000013,\n",
       " 1.0000000000000129,\n",
       " 1.0000000000000138,\n",
       " 1.0000000000000138,\n",
       " 1.0000000000000155,\n",
       " 1.0000000000000158,\n",
       " 1.000000000000016,\n",
       " 1.0000000000000169,\n",
       " 1.0000000000000162,\n",
       " 1.000000000000017,\n",
       " 1.0000000000000182,\n",
       " 1.0000000000000182,\n",
       " 1.0000000000000184,\n",
       " 1.0000000000000187,\n",
       " 1.0000000000000189,\n",
       " 1.000000000000019,\n",
       " 1.0000000000000209,\n",
       " 1.0000000000000209,\n",
       " 1.0000000000000193,\n",
       " 1.000000000000021,\n",
       " 1.000000000000021,\n",
       " 1.0000000000000233,\n",
       " 1.0000000000000244,\n",
       " 1.0000000000000233,\n",
       " 1.0000000000000246,\n",
       " 1.0000000000000238,\n",
       " 1.0000000000000224,\n",
       " 1.0000000000000187,\n",
       " 1.000000000000008,\n",
       " 0.9999999999999805,\n",
       " 0.9999999999999154,\n",
       " 0.9999999999997614,\n",
       " 0.9999999999994098,\n",
       " 0.9999999999986142,\n",
       " 0.9999999999968484,\n",
       " 0.9999999999929988,\n",
       " 0.9999999999847565,\n",
       " 0.9999999999674151,\n",
       " 0.9999999999315552,\n",
       " 0.9999999998586627,\n",
       " 0.9999999997129835,\n",
       " 0.9999999994266782,\n",
       " 0.999999998873247,\n",
       " 0.9999999978208531,\n",
       " 0.9999999958517665,\n",
       " 0.9999999922259362,\n",
       " 0.9999999856539371,\n",
       " 0.9999999739258902,\n",
       " 0.9999999533155759,\n",
       " 0.9999999176402286,\n",
       " 0.9999998568027296,\n",
       " 0.9999997545699891,\n",
       " 0.999999585245036,\n",
       " 0.999999308766304,\n",
       " 0.9999988636122007,\n",
       " 0.9999981567000119,\n",
       " 0.9999970492455191,\n",
       " 0.9999953372967308,\n",
       " 0.9999927253797831,\n",
       " 0.9999887914106153,\n",
       " 0.9999829407522468,\n",
       " 0.9999743470606598,\n",
       " 0.9999618773951406,\n",
       " 0.999943999009473,\n",
       " 0.9999186653298668,\n",
       " 0.9998831789053788,\n",
       " 0.9998340296248811,\n",
       " 0.9997667072609444,\n",
       " 0.9996754884423268,\n",
       " 0.9995531994720775,\n",
       " 0.9993909579752733,\n",
       " 0.9991778981323058,\n",
       " 0.998900886158464,\n",
       " 0.9985442346326024,\n",
       " 0.9980894261407127,\n",
       " 0.9975148583542048,\n",
       " 0.9967956239715203,\n",
       " 0.9959033397829294,\n",
       " 0.9948060393543537,\n",
       " 0.9934681433735689,\n",
       " 0.9918505205028143,\n",
       " 0.9899106496185582,\n",
       " 0.9876028916219163,\n",
       " 0.9848788756492786,\n",
       " 0.9816880006254982,\n",
       " 0.977978048844364,\n",
       " 0.973695903827092,\n",
       " 0.9687883603124223,\n",
       " 0.9632030100913118,\n",
       " 0.9568891837272384,\n",
       " 0.9497989251914043,\n",
       " 0.9418879742495913,\n",
       " 0.933116730181039,\n",
       " 0.9234511701580389,\n",
       " 0.9128636963843284,\n",
       " 0.9013338878458986,\n",
       " 0.8888491351858213,\n",
       " 0.8754051406498475,\n",
       " 0.8610062691024613,\n",
       " 0.845665740601287,\n",
       " 0.8294056597456124,\n",
       " 0.8122568817850703,\n",
       " 0.7942587200979219,\n",
       " 0.7754585039531265,\n",
       " 0.7559109993088575,\n",
       " 0.7356777086546485,\n",
       " 0.7148260684902246,\n",
       " 0.6934285649006741,\n",
       " 0.671561788817924,\n",
       " 0.6493054529665327,\n",
       " 0.626741392219107,\n",
       " 0.6039525681975719,\n",
       " 0.5810220975330808,\n",
       " 0.5580323213337374,\n",
       " 0.5350639312066009,\n",
       " 0.5121951647415525,\n",
       " 0.4895010807898193,\n",
       " 0.4670529222532821,\n",
       " 0.44491757152673833,\n",
       " 0.42315710127735195,\n",
       " 0.40182842096399624,\n",
       " 0.3809830174411521,\n",
       " 0.36066678619120934,\n",
       " 0.3409199482063759,\n",
       " 0.3217770463062229,\n",
       " 0.303267013728052,\n",
       " 0.2854133071548523,\n",
       " 0.26823409593248965,\n",
       " 0.25174249905133944,\n",
       " 0.23594686150131366,\n",
       " 0.22085106182420078,\n",
       " 0.20645484305343723,\n",
       " 0.19275415971890425,\n",
       " 0.17974153417417865,\n",
       " 0.167406416148728,\n",
       " 0.15573554011300617,\n",
       " 0.1447132757482065,\n",
       " 0.13432196751542305,\n",
       " 0.12454226000504044,\n",
       " 0.1153534064032081,\n",
       " 0.10673355802801389,\n",
       " 0.09866003345587833,\n",
       " 0.09110956627361977,\n",
       " 0.08405853095060357,\n",
       " 0.07748314672726514,\n",
       " 0.07135965976153481,\n",
       " 0.06566450406500896,\n",
       " 0.06037444199883344,\n",
       " 0.05546668528866962,\n",
       " 0.05091899766280338,\n",
       " 0.046709780321767216,\n",
       " 0.04281814151627131,\n",
       " 0.03922395154728753,\n",
       " 0.0359078845122213,\n",
       " 0.032851448108463153,\n",
       " 0.03003700277421157,\n",
       " 0.027447771399971857,\n",
       " 0.025067840785900793,\n",
       " 0.022882155953176154,\n",
       " 0.02087650834446183,\n",
       " 0.019037518871607505,\n",
       " 0.01735261668992694,\n",
       " 0.01581001449938796,\n",
       " 0.014398681095179156,\n",
       " 0.013108311814483237,\n",
       " 0.011929297453740955,\n",
       " 0.010852692161875262,\n",
       " 0.009870180750321512,\n",
       " 0.008974045800577077,\n",
       " 0.008157134894507607,\n",
       " 0.007412828241881176,\n",
       " 0.006735006933506186,\n",
       " 0.006118022006813248,\n",
       " 0.00555666447357353,\n",
       " 0.005046136426475734,\n",
       " 0.004582023312245206,\n",
       " 0.00416026743361886,\n",
       " 0.0037771427205122703,\n",
       " 0.0034292307918508476,\n",
       " 0.0031133983135065916,\n",
       " 0.002826775644313852,\n",
       " 0.002566736750969,\n",
       " 0.002330880363500627,\n",
       " 0.0021170123356932056,\n",
       " 0.0019231291691387549,\n",
       " 0.0017474026552747382,\n",
       " 0.0015881655866555795,\n",
       " 0.001443898486630037,\n",
       " 0.0013132173054034397,\n",
       " 0.001194862030014012,\n",
       " 0.001087686155922997,\n",
       " 0.0009906469685993318,\n",
       " 0.0009027965845746516,\n",
       " 0.0008232737028687551,\n",
       " 0.0007512960193658054,\n",
       " 0.0006861532585936457,\n",
       " 0.0006272007793682984,\n",
       " 0.000573853712866297,\n",
       " 0.0005255815938399903,\n",
       " 0.00048190344786240173,\n",
       " 0.0004423832996517506,\n",
       " 0.000406626069659159,\n",
       " 0.000374273828188744,\n",
       " 0.0003450023783433341,\n",
       " 0.00031851814104072863,\n",
       " 0.00029455531721692824,\n",
       " 0.00027287330411859503,\n",
       " 0.00025325434428362235,\n",
       " 0.00023550138741426237,\n",
       " 0.0002194361468613596,\n",
       " 0.00020489733386145067,\n",
       " 0.00019173905400246468,\n",
       " 0.00017982935164068494,\n",
       " 0.00016904888915443333,\n",
       " 0.00015928974900179338,\n",
       " 0.0001504543475541586,\n",
       " 0.00014245445060828728,\n",
       " 0.00013521028134058494,\n",
       " 0.00012864971226260517,\n",
       " 0.0001227075334700175,\n",
       " 0.0001173247901524861,\n",
       " 0.00011244818295273666,\n",
       " 0.00010802952533327683,\n",
       " 0.00010402525263224646,\n",
       " 0.00010039597796909502,\n",
       " 9.710609059945214e-05,\n",
       " 9.412339271965764e-05,\n",
       " 9.141877108790072e-05,\n",
       " 8.896590016340895e-05,\n",
       " 8.674097377024357e-05,\n",
       " 8.472246257030051e-05,\n",
       " 8.28908948833588e-05,\n",
       " 8.122865862247179e-05,\n",
       " 7.971982232260751e-05,\n",
       " 7.834997343096689e-05,\n",
       " 7.710607220048422e-05,\n",
       " 7.597631968514712e-05,\n",
       " 7.495003847838018e-05,\n",
       " 7.401756496506328e-05,\n",
       " 7.317015197500821e-05,\n",
       " 7.23998808319757e-05,\n",
       " 7.169958188854258e-05,\n",
       " 7.106276272427673e-05,\n",
       " 7.048354326353019e-05,\n",
       " 6.995659714052567e-05,\n",
       " 6.947709870392752e-05,\n",
       " 6.90406751114498e-05,\n",
       " 6.864336301778508e-05,\n",
       " 6.828156940680165e-05,\n",
       " 6.795203616201607e-05,\n",
       " 6.765180800825807e-05,\n",
       " 6.737820349258174e-05,\n",
       " 6.712878870423002e-05,\n",
       " 6.690135346215665e-05,\n",
       " 6.669388972452677e-05,\n",
       " 6.650457199807919e-05,\n",
       " 6.633173954644904e-05,\n",
       " 6.617388021576684e-05,\n",
       " 6.602961571328065e-05,\n",
       " 6.589768819056758e-05,\n",
       " 6.577694799730013e-05,\n",
       " 6.566634248464941e-05,\n",
       " 6.556490574938275e-05,\n",
       " 6.547174922070673e-05,\n",
       " 6.538605300196261e-05,\n",
       " 6.530705788858401e-05,\n",
       " 6.523405799228642e-05,\n",
       " 6.516639390941391e-05,\n",
       " 6.510344637874194e-05,\n",
       " 6.504463038090947e-05,\n",
       " 6.498938963806489e-05,\n",
       " 6.493719147829826e-05]"
      ]
     },
     "execution_count": 130,
     "metadata": {},
     "output_type": "execute_result"
    }
   ],
   "source": [
    "LAM_NUM = []\n",
    "\n",
    "\n",
    "for k in range(0, 1500, 5):\n",
    "    add_num = 0\n",
    "    for i in range(J):\n",
    "        num = (np.absolute(lam_psi[i, k])**2)*dx\n",
    "        add_num = num + add_num\n",
    "    LAM_NUM.append(add_num)\n",
    "    \n",
    "add_den = 0   \n",
    "for i in range(J):\n",
    "    den = (np.absolute(lam_psi[i, 0])**2)*dx\n",
    "    add_den = den + add_den\n",
    "    \n",
    "y = list(range(0, 1500, 5))\n",
    "len(y)\n",
    "\n",
    "LAM_ref_coef = []\n",
    "for i in range(len(y)):\n",
    "    coef = LAM_NUM[i]/add_den\n",
    "    LAM_ref_coef.append(coef)\n",
    "LAM_ref_coef"
   ]
  },
  {
   "cell_type": "code",
   "execution_count": 131,
   "id": "530b0fd7",
   "metadata": {
    "scrolled": true
   },
   "outputs": [
    {
     "data": {
      "text/plain": [
       "[1.0,\n",
       " 0.9999999999999999,\n",
       " 1.0000000000000007,\n",
       " 1.0000000000000027,\n",
       " 1.0000000000000027,\n",
       " 1.0000000000000022,\n",
       " 1.0000000000000022,\n",
       " 1.000000000000004,\n",
       " 1.0000000000000029,\n",
       " 1.0000000000000042,\n",
       " 1.0000000000000049,\n",
       " 1.000000000000004,\n",
       " 1.0000000000000049,\n",
       " 1.0000000000000056,\n",
       " 1.0000000000000064,\n",
       " 1.0000000000000067,\n",
       " 1.0000000000000075,\n",
       " 1.000000000000008,\n",
       " 1.0000000000000082,\n",
       " 1.0000000000000078,\n",
       " 1.0000000000000082,\n",
       " 1.0000000000000098,\n",
       " 1.0000000000000107,\n",
       " 1.0000000000000113,\n",
       " 1.0000000000000104,\n",
       " 1.0000000000000113,\n",
       " 1.0000000000000122,\n",
       " 1.0000000000000124,\n",
       " 1.000000000000013,\n",
       " 1.0000000000000129,\n",
       " 1.000000000000014,\n",
       " 1.0000000000000142,\n",
       " 1.0000000000000153,\n",
       " 1.0000000000000158,\n",
       " 1.0000000000000158,\n",
       " 1.000000000000016,\n",
       " 1.0000000000000169,\n",
       " 1.000000000000017,\n",
       " 1.000000000000018,\n",
       " 1.0000000000000182,\n",
       " 1.000000000000018,\n",
       " 1.0000000000000184,\n",
       " 1.000000000000019,\n",
       " 1.0000000000000189,\n",
       " 1.0000000000000207,\n",
       " 1.0000000000000213,\n",
       " 1.0000000000000193,\n",
       " 1.0000000000000209,\n",
       " 1.0000000000000209,\n",
       " 1.000000000000023,\n",
       " 1.0000000000000238,\n",
       " 1.0000000000000235,\n",
       " 1.0000000000000246,\n",
       " 1.0000000000000238,\n",
       " 1.0000000000000213,\n",
       " 1.000000000000019,\n",
       " 1.0000000000000058,\n",
       " 0.9999999999999757,\n",
       " 0.9999999999999051,\n",
       " 0.9999999999997414,\n",
       " 0.9999999999993654,\n",
       " 0.9999999999985213,\n",
       " 0.9999999999966597,\n",
       " 0.9999999999926279,\n",
       " 0.9999999999840394,\n",
       " 0.9999999999660644,\n",
       " 0.9999999999290713,\n",
       " 0.9999999998542122,\n",
       " 0.9999999997052338,\n",
       " 0.9999999994135989,\n",
       " 0.9999999988519535,\n",
       " 0.9999999977876286,\n",
       " 0.9999999958026603,\n",
       " 0.9999999921586207,\n",
       " 0.9999999855722214,\n",
       " 0.9999999738493301,\n",
       " 0.9999999532984061,\n",
       " 0.9999999178066503,\n",
       " 0.9999998574098204,\n",
       " 0.9999997561158829,\n",
       " 0.99999958864914,\n",
       " 0.9999993156611204,\n",
       " 0.9999988768038615,\n",
       " 0.9999981808777807,\n",
       " 0.9999970920505119,\n",
       " 0.9999954108975986,\n",
       " 0.9999928487487298,\n",
       " 0.9999889935468093,\n",
       " 0.9999832651606516,\n",
       " 0.999974857860814,\n",
       " 0.9999626675034361,\n",
       " 0.9999452009059646,\n",
       " 0.9999204649808592,\n",
       " 0.9998858334595109,\n",
       " 0.999837889525313,\n",
       " 0.9997722434117006,\n",
       " 0.9996833250247332,\n",
       " 0.9995641529206196,\n",
       " 0.9994060824857114,\n",
       " 0.9991985378854978,\n",
       " 0.9989287342016991,\n",
       " 0.9985813980701883,\n",
       " 0.9981384969556424,\n",
       " 0.9975789888252098,\n",
       " 0.996878605280868,\n",
       " 0.9960096820492274,\n",
       " 0.994941050992373,\n",
       " 0.9936380074016472,\n",
       " 0.9920623652084739,\n",
       " 0.9901726108732156,\n",
       " 0.987924164120371,\n",
       " 0.9852697504487106,\n",
       " 0.9821598865751241,\n",
       " 0.978543475827758,\n",
       " 0.9743685061745272,\n",
       " 0.9695828392646514,\n",
       " 0.9641350747877045,\n",
       " 0.9579754708249931,\n",
       " 0.9510568978709163,\n",
       " 0.9433358019954596,\n",
       " 0.9347731513209906,\n",
       " 0.9253353396679141,\n",
       " 0.9149950219048777,\n",
       " 0.9037318571898152,\n",
       " 0.8915331388302862,\n",
       " 0.8783942928057261,\n",
       " 0.864319230927016,\n",
       " 0.8493205489830382,\n",
       " 0.8334195648488483,\n",
       " 0.8166461962122281,\n",
       " 0.7990386821284735,\n",
       " 0.7806431568668522,\n",
       " 0.7615130883195985,\n",
       " 0.741708596487217,\n",
       " 0.7212956701463402,\n",
       " 0.7003453016957885,\n",
       " 0.6789325613431709,\n",
       " 0.6571356322495351,\n",
       " 0.6350348280316866,\n",
       " 0.6127116131922273,\n",
       " 0.5902476456852962,\n",
       " 0.5677238590230996,\n",
       " 0.545219599183506,\n",
       " 0.522811829193433,\n",
       " 0.5005744117354262,\n",
       " 0.47857747754890934,\n",
       " 0.4568868848572016,\n",
       " 0.435563772619719,\n",
       " 0.414664208146449,\n",
       " 0.39423892756633616,\n",
       " 0.3743331658469629,\n",
       " 0.3549865715416448,\n",
       " 0.336233200201822,\n",
       " 0.318101579437202,\n",
       " 0.3006148379243617,\n",
       " 0.28379089024012394,\n",
       " 0.26764266920709345,\n",
       " 0.2521783974593349,\n",
       " 0.2374018901379218,\n",
       " 0.22331288097935956,\n",
       " 0.2099073645350989,\n",
       " 0.1971779478288063,\n",
       " 0.18511420539276788,\n",
       " 0.17370303230106254,\n",
       " 0.16292899051288495,\n",
       " 0.15277464453547762,\n",
       " 0.14322088309639153,\n",
       " 0.13424722416602347,\n",
       " 0.12583210128325323,\n",
       " 0.11795312970185085,\n",
       " 0.11058735138789147,\n",
       " 0.10371145835562913,\n",
       " 0.09730199422990844,\n",
       " 0.09133553426759357,\n",
       " 0.08578884436030339,\n",
       " 0.08063901977861003,\n",
       " 0.07586360460720486,\n",
       " 0.07144069296531032,\n",
       " 0.06734901321111146,\n",
       " 0.06356799639765885,\n",
       " 0.060077830285036556,\n",
       " 0.05685950022399624,\n",
       " 0.0538948182139403,\n",
       " 0.05116644140706258,\n",
       " 0.04865788128428673,\n",
       " 0.04635350467071873,\n",
       " 0.04423852769164,\n",
       " 0.04229900369725222,\n",
       " 0.040521806107735536,\n",
       " 0.03889460705166599,\n",
       " 0.037405852592099276,\n",
       " 0.03604473525702987,\n",
       " 0.03480116451556682,\n",
       " 0.03366573576889057,\n",
       " 0.0326296983565061,\n",
       " 0.031684923013953564,\n",
       " 0.03082386915827025,\n",
       " 0.030039552322292124,\n",
       " 0.02932551200838026,\n",
       " 0.02867578018632899,\n",
       " 0.0280848506189376,\n",
       " 0.027547649161837332,\n",
       " 0.02705950515144757,\n",
       " 0.026616123966143226,\n",
       " 0.026213560820582935,\n",
       " 0.025848195831402895,\n",
       " 0.025516710373834673,\n",
       " 0.025216064732990037,\n",
       " 0.02494347704028394,\n",
       " 0.02469640347449064,\n",
       " 0.02447251969798514,\n",
       " 0.024269703491585626,\n",
       " 0.0240860185458569,\n",
       " 0.023919699362561712,\n",
       " 0.023769137216965285,\n",
       " 0.023632867129743593,\n",
       " 0.023509555796158935,\n",
       " 0.02339799041981489,\n",
       " 0.02329706839855988,\n",
       " 0.02320578781086615,\n",
       " 0.023123238652175318,\n",
       " 0.02304859477218335,\n",
       " 0.022981106465771894,\n",
       " 0.022920093672205898,\n",
       " 0.02286493973926728,\n",
       " 0.02281508571112281,\n",
       " 0.02277002510090401,\n",
       " 0.022729299111167476,\n",
       " 0.022692492267582094,\n",
       " 0.022659228433335208,\n",
       " 0.022629167173841957,\n",
       " 0.022602000443370983,\n",
       " 0.0225774495671513,\n",
       " 0.02255526249439734,\n",
       " 0.022535211299469858,\n",
       " 0.02251708991008353,\n",
       " 0.022500712043069294,\n",
       " 0.02248590932970788,\n",
       " 0.022472529614063094,\n",
       " 0.02246043540906994,\n",
       " 0.02244950249636744,\n",
       " 0.02243961865701989,\n",
       " 0.02243068252133916,\n",
       " 0.022422602527016843,\n",
       " 0.022415295975691363,\n",
       " 0.022408688178928094,\n",
       " 0.0224027116853729,\n",
       " 0.022397305581563103,\n",
       " 0.022392414859543096,\n",
       " 0.022387989845044136,\n",
       " 0.02238398568054694,\n",
       " 0.022380361858058705,\n",
       " 0.022377081796907814,\n",
       " 0.02237411246228728,\n",
       " 0.022371424020672034,\n",
       " 0.02236898952859334,\n",
       " 0.02236678465157942,\n",
       " 0.02236478741037106,\n",
       " 0.022362977951789802,\n",
       " 0.022361338341885657,\n",
       " 0.02235985237921274,\n",
       " 0.02235850542628794,\n",
       " 0.022357284257470057,\n",
       " 0.022356176921667165,\n",
       " 0.022355172618430393,\n",
       " 0.02235426158613159,\n",
       " 0.02235343500104643,\n",
       " 0.022352684886278833,\n",
       " 0.022352004029563936,\n",
       " 0.022351385909079747,\n",
       " 0.022350824626481892,\n",
       " 0.02235031484645004,\n",
       " 0.022349851742104822,\n",
       " 0.022349430945712876,\n",
       " 0.022349048504155183,\n",
       " 0.022348700838681613,\n",
       " 0.02234838470852181,\n",
       " 0.02234809717795857,\n",
       " 0.022347835586509605,\n",
       " 0.022347597521892932,\n",
       " 0.02234738079547984,\n",
       " 0.022347183419965274,\n",
       " 0.022347003589006518,\n",
       " 0.022346839658600733,\n",
       " 0.022346690129989317,\n",
       " 0.02234655363389117,\n",
       " 0.022346428915878593,\n",
       " 0.022346314822722303,\n",
       " 0.022346210289537823,\n",
       " 0.02234611432757656,\n",
       " 0.02234602601250642,\n",
       " 0.02234594447303472,\n",
       " 0.022345868879728434,\n",
       " 0.022345798433888276,\n",
       " 0.022345732356336585,\n",
       " 0.022345669875978653,\n",
       " 0.022345610217997827,\n",
       " 0.022345552591544884,\n",
       " 0.022345496176782775,\n",
       " 0.02234544011114671]"
      ]
     },
     "execution_count": 131,
     "metadata": {},
     "output_type": "execute_result"
    }
   ],
   "source": [
    "RFA_NUM = []\n",
    "\n",
    "\n",
    "for k in range(0, 1500, 5):\n",
    "    add_num = 0\n",
    "    for i in range(J):\n",
    "        num = (np.absolute(rfa_psi[i, k])**2)*dx\n",
    "        add_num = num + add_num\n",
    "    RFA_NUM.append(add_num)\n",
    "    \n",
    "add_den = 0   \n",
    "for i in range(J):\n",
    "    den = (np.absolute(rfa_psi[i, 0])**2)*dx\n",
    "    add_den = den + add_den\n",
    "    \n",
    "y = list(range(0, 1500, 5))\n",
    "len(y)\n",
    "\n",
    "RFA_ref_coef = []\n",
    "for i in range(len(y)):\n",
    "    coef = RFA_NUM[i]/add_den\n",
    "    RFA_ref_coef.append(coef)\n",
    "RFA_ref_coef"
   ]
  },
  {
   "cell_type": "code",
   "execution_count": 132,
   "id": "28253d4b",
   "metadata": {},
   "outputs": [
    {
     "data": {
      "text/plain": [
       "[1.0,\n",
       " 0.9999999999999999,\n",
       " 1.0000000000000007,\n",
       " 1.0000000000000027,\n",
       " 1.0000000000000027,\n",
       " 1.0000000000000022,\n",
       " 1.0000000000000022,\n",
       " 1.000000000000004,\n",
       " 1.0000000000000029,\n",
       " 1.0000000000000042,\n",
       " 1.0000000000000049,\n",
       " 1.000000000000004,\n",
       " 1.0000000000000049,\n",
       " 1.0000000000000056,\n",
       " 1.0000000000000064,\n",
       " 1.0000000000000067,\n",
       " 1.0000000000000075,\n",
       " 1.000000000000008,\n",
       " 1.0000000000000082,\n",
       " 1.0000000000000078,\n",
       " 1.0000000000000082,\n",
       " 1.0000000000000098,\n",
       " 1.0000000000000107,\n",
       " 1.0000000000000113,\n",
       " 1.0000000000000104,\n",
       " 1.0000000000000113,\n",
       " 1.0000000000000122,\n",
       " 1.0000000000000124,\n",
       " 1.000000000000013,\n",
       " 1.0000000000000129,\n",
       " 1.000000000000014,\n",
       " 1.000000000000014,\n",
       " 1.0000000000000153,\n",
       " 1.000000000000016,\n",
       " 1.0000000000000158,\n",
       " 1.0000000000000164,\n",
       " 1.0000000000000167,\n",
       " 1.0000000000000173,\n",
       " 1.0000000000000182,\n",
       " 1.0000000000000178,\n",
       " 1.0000000000000184,\n",
       " 1.0000000000000184,\n",
       " 1.000000000000019,\n",
       " 1.0000000000000193,\n",
       " 1.0000000000000209,\n",
       " 1.0000000000000213,\n",
       " 1.0000000000000195,\n",
       " 1.0000000000000218,\n",
       " 1.0000000000000218,\n",
       " 1.0000000000000235,\n",
       " 1.000000000000025,\n",
       " 1.0000000000000235,\n",
       " 1.0000000000000242,\n",
       " 1.000000000000024,\n",
       " 1.0000000000000226,\n",
       " 1.0000000000000198,\n",
       " 1.0000000000000075,\n",
       " 0.9999999999999796,\n",
       " 0.9999999999999137,\n",
       " 0.9999999999997572,\n",
       " 0.9999999999993973,\n",
       " 0.9999999999985861,\n",
       " 0.9999999999967878,\n",
       " 0.9999999999928695,\n",
       " 0.9999999999844876,\n",
       " 0.9999999999668646,\n",
       " 0.9999999999304481,\n",
       " 0.9999999998564736,\n",
       " 0.9999999997087253,\n",
       " 0.9999999994185278,\n",
       " 0.9999999988579081,\n",
       " 0.9999999977924386,\n",
       " 0.999999995799971,\n",
       " 0.9999999921329877,\n",
       " 0.9999999854897108,\n",
       " 0.9999999736401486,\n",
       " 0.999999952825884,\n",
       " 0.9999999168134786,\n",
       " 0.9999998554273652,\n",
       " 0.9999997523150063,\n",
       " 0.9999995816005268,\n",
       " 0.9999993029587108,\n",
       " 0.9999988544856767,\n",
       " 0.9999981425532175,\n",
       " 0.9999970276110642,\n",
       " 0.9999953046483966,\n",
       " 0.9999926767507951,\n",
       " 0.9999887199049433,\n",
       " 0.999982836930441,\n",
       " 0.9999741981825033,\n",
       " 0.9999616665037622,\n",
       " 0.99994370384591,\n",
       " 0.9999182570736441,\n",
       " 0.9998826207457299,\n",
       " 0.9998332751786859,\n",
       " 0.999765698867226,\n",
       " 0.9996741553786148,\n",
       " 0.9995514561546047,\n",
       " 0.9993887022216463,\n",
       " 0.9991750095809496,\n",
       " 0.9988972249523657,\n",
       " 0.9985396404842811,\n",
       " 0.9980837178995569,\n",
       " 0.9975078341952115,\n",
       " 0.9967870623150088,\n",
       " 0.9958930010377282,\n",
       " 0.9947936685520266,\n",
       " 0.993453473729271,\n",
       " 0.9918332779002913,\n",
       " 0.9898905579743972,\n",
       " 0.9875796790394711,\n",
       " 0.9848522812282015,\n",
       " 0.9816577817510173,\n",
       " 0.9779439887440448,\n",
       " 0.9736578191540454,\n",
       " 0.9687461084949176,\n",
       " 0.9631564961808705,\n",
       " 0.9568383664815104,\n",
       " 0.9497438221445182,\n",
       " 0.9418286655507445,\n",
       " 0.9330533610206522,\n",
       " 0.9233839516479402,\n",
       " 0.9127929048120234,\n",
       " 0.9012598622802896,\n",
       " 0.8887722734701384,\n",
       " 0.8753258938741887,\n",
       " 0.8609251347007392,\n",
       " 0.8455832542632326,\n",
       " 0.8293223863719764,\n",
       " 0.8121734057419412,\n",
       " 0.7941756350433539,\n",
       " 0.77537640251581,\n",
       " 0.7558304628946265,\n",
       " 0.7355992976429353,\n",
       " 0.7147503130603313,\n",
       " 0.6933559566983207,\n",
       " 0.6714927736376296,\n",
       " 0.6492404245867226,\n",
       " 0.6266806874861974,\n",
       " 0.603896463414327,\n",
       " 0.5809708061668178,\n",
       " 0.5579859930228083,\n",
       " 0.5350226520101048,\n",
       " 0.5121589585482792,\n",
       " 0.48946991177853344,\n",
       " 0.4670266982779667,\n",
       " 0.4448961482873883,\n",
       " 0.42314028712918483,\n",
       " 0.4018159822152066,\n",
       " 0.38097468399112916,\n",
       " 0.3606622573668532,\n",
       " 0.3409188986631817,\n",
       " 0.32177913187245616,\n",
       " 0.30327187708394154,\n",
       " 0.28542058325363967,\n",
       " 0.26824341708576094,\n",
       " 0.2517534996168155,\n",
       " 0.23595918212667993,\n",
       " 0.22086435321524936,\n",
       " 0.2064687692484367,\n",
       " 0.1927684008634779,\n",
       " 0.1797557888019015,\n",
       " 0.16742040298203809,\n",
       " 0.15574899940685066,\n",
       " 0.14472597020511224,\n",
       " 0.13433368280546218,\n",
       " 0.12455280492754933,\n",
       " 0.11536261272922732,\n",
       " 0.10674128006338886,\n",
       " 0.09866614736494037,\n",
       " 0.09111396920250685,\n",
       " 0.08406113998772144,\n",
       " 0.07748389773628818,\n",
       " 0.07135850611982131,\n",
       " 0.06566141533749305,\n",
       " 0.06036940257445685,\n",
       " 0.05545969300333164,\n",
       " 0.05091006242971649,\n",
       " 0.04669892278707959,\n",
       " 0.042805391754908106,\n",
       " 0.03920934781121686,\n",
       " 0.03589147204079632,\n",
       " 0.032833278008153055,\n",
       " 0.030017130972923977,\n",
       " 0.027426257679290474,\n",
       " 0.02504474789291783,\n",
       " 0.02285754879218032,\n",
       " 0.02085045324754083,\n",
       " 0.019010082946226827,\n",
       " 0.01732386724073707,\n",
       " 0.015780018520876588,\n",
       " 0.01436750483130353,\n",
       " 0.013076020381075177,\n",
       " 0.011895954519255321,\n",
       " 0.010818359681935143,\n",
       " 0.00983491875148515,\n",
       " 0.008937912208797322,\n",
       " 0.00812018540386154,\n",
       " 0.007375116219302663,\n",
       " 0.006696583355447506,\n",
       " 0.00607893542398266,\n",
       " 0.0055169610001366606,\n",
       " 0.005005859750361362,\n",
       " 0.004541214723455226,\n",
       " 0.004118965867702096,\n",
       " 0.003735384814618434,\n",
       " 0.0033870509510308074,\n",
       " 0.003070828785165472,\n",
       " 0.0027838465989524167,\n",
       " 0.0025234763675647054,\n",
       " 0.0022873149180817546,\n",
       " 0.002073166291846962,\n",
       " 0.0018790252693670617,\n",
       " 0.0017030620122694933,\n",
       " 0.0015436077737089144,\n",
       " 0.0013991416265248947,\n",
       " 0.0012682781572462738,\n",
       " 0.0011497560735752054,\n",
       " 0.0010424276731426714,\n",
       " 0.0009452491219970613,\n",
       " 0.0008572714923723825,\n",
       " 0.0007776325106975279,\n",
       " 0.0007055489684796532,\n",
       " 0.0006403097505590341,\n",
       " 0.0005812694372354676,\n",
       " 0.0005278424388605871,\n",
       " 0.00047949762363736143,\n",
       " 0.0004357534015345221,\n",
       " 0.00039617322938286935,\n",
       " 0.00036036150434996177,\n",
       " 0.00032795981507211083,\n",
       " 0.0002986435217437208,\n",
       " 0.0002721186384133123,\n",
       " 0.0002481189926049349,\n",
       " 0.00022640363916780372,\n",
       " 0.0002067545069521245,\n",
       " 0.0001889742585134534,\n",
       " 0.00017288434456108143,\n",
       " 0.00015832323628834637,\n",
       " 0.00014514482005617451,\n",
       " 0.00013321694014762223,\n",
       " 0.00012242007647367547,\n",
       " 0.00011264614519219136,\n",
       " 0.00010379741120625683,\n",
       " 9.578550243904117e-05,\n",
       " 8.853051664333716e-05,\n",
       " 8.196021229929243e-05,\n",
       " 7.600927588723444e-05,\n",
       " 7.061865849782215e-05,\n",
       " 6.573497536279367e-05,\n",
       " 6.13099624599443e-05,\n",
       " 5.729998486920963e-05,\n",
       " 5.366559203617148e-05,\n",
       " 5.0371115538198274e-05,\n",
       " 4.738430534977417e-05,\n",
       " 4.467600097028294e-05,\n",
       " 4.2219834112243167e-05,\n",
       " 3.9991959953335495e-05,\n",
       " 3.79708142338399e-05,\n",
       " 3.6136893734561836e-05,\n",
       " 3.4472557901009026e-05,\n",
       " 3.296184958940876e-05,\n",
       " 3.1590333100891434e-05,\n",
       " 3.034494784345998e-05,\n",
       " 2.9213876118709783e-05,\n",
       " 2.8186423673080242e-05,\n",
       " 2.7252911782963122e-05,\n",
       " 2.6404579760463104e-05,\n",
       " 2.5633496873073498e-05,\n",
       " 2.493248276699456e-05,\n",
       " 2.4295035571181932e-05,\n",
       " 2.3715266938313226e-05,\n",
       " 2.318784335044999e-05,\n",
       " 2.2707933081946375e-05,\n",
       " 2.227115827075542e-05,\n",
       " 2.187355160227608e-05,\n",
       " 2.1511517157799655e-05,\n",
       " 2.1181795022937504e-05,\n",
       " 2.0881429290564806e-05,\n",
       " 2.0607739128211246e-05,\n",
       " 2.0358292611817552e-05,\n",
       " 2.0130883056684757e-05,\n",
       " 1.992350760257902e-05,\n",
       " 1.9734347833572374e-05,\n",
       " 1.9561752234558214e-05,\n",
       " 1.9404220305691624e-05,\n",
       " 1.9260388173474455e-05,\n",
       " 1.9129015553010397e-05,\n",
       " 1.9008973930267222e-05,\n",
       " 1.8899235846137013e-05,\n",
       " 1.879886517582787e-05,\n",
       " 1.8707008307759763e-05,\n",
       " 1.8622886135786818e-05,\n",
       " 1.85457867873178e-05,\n",
       " 1.8475059017850762e-05,\n",
       " 1.8410106209639084e-05,\n",
       " 1.835038091874365e-05,\n",
       " 1.82953799206529e-05,\n",
       " 1.8244639710021954e-05,\n",
       " 1.8197732414939778e-05]"
      ]
     },
     "execution_count": 132,
     "metadata": {},
     "output_type": "execute_result"
    }
   ],
   "source": [
    "p2_NUM = []\n",
    "\n",
    "\n",
    "for k in range(0, 1500, 5):\n",
    "    add_num = 0\n",
    "    for i in range(J):\n",
    "        num = (np.absolute(p2_psi[i, k])**2)*dx\n",
    "        add_num = num + add_num\n",
    "    p2_NUM.append(add_num)\n",
    "    \n",
    "add_den = 0   \n",
    "for i in range(J):\n",
    "    den = (np.absolute(p2_psi[i, 0])**2)*dx\n",
    "    add_den = den + add_den\n",
    "    \n",
    "y = list(range(0, 1500, 5))\n",
    "len(y)\n",
    "\n",
    "p2_ref_coef = []\n",
    "for i in range(len(y)):\n",
    "    coef = p2_NUM[i]/add_den\n",
    "    p2_ref_coef.append(coef)\n",
    "p2_ref_coef"
   ]
  },
  {
   "cell_type": "code",
   "execution_count": 133,
   "id": "cdb101bc",
   "metadata": {},
   "outputs": [
    {
     "data": {
      "text/plain": [
       "[1.0,\n",
       " 0.9999999999999999,\n",
       " 1.0000000000000007,\n",
       " 1.0000000000000027,\n",
       " 1.0000000000000027,\n",
       " 1.0000000000000022,\n",
       " 1.0000000000000022,\n",
       " 1.000000000000004,\n",
       " 1.0000000000000029,\n",
       " 1.0000000000000042,\n",
       " 1.0000000000000049,\n",
       " 1.000000000000004,\n",
       " 1.0000000000000049,\n",
       " 1.0000000000000056,\n",
       " 1.0000000000000064,\n",
       " 1.0000000000000067,\n",
       " 1.0000000000000075,\n",
       " 1.000000000000008,\n",
       " 1.0000000000000082,\n",
       " 1.0000000000000078,\n",
       " 1.0000000000000082,\n",
       " 1.0000000000000098,\n",
       " 1.0000000000000107,\n",
       " 1.0000000000000113,\n",
       " 1.0000000000000104,\n",
       " 1.0000000000000113,\n",
       " 1.0000000000000122,\n",
       " 1.0000000000000124,\n",
       " 1.000000000000013,\n",
       " 1.0000000000000129,\n",
       " 1.000000000000014,\n",
       " 1.0000000000000138,\n",
       " 1.0000000000000153,\n",
       " 1.000000000000016,\n",
       " 1.0000000000000158,\n",
       " 1.0000000000000169,\n",
       " 1.0000000000000167,\n",
       " 1.000000000000017,\n",
       " 1.000000000000018,\n",
       " 1.000000000000018,\n",
       " 1.0000000000000189,\n",
       " 1.0000000000000189,\n",
       " 1.0000000000000195,\n",
       " 1.0000000000000198,\n",
       " 1.0000000000000207,\n",
       " 1.0000000000000213,\n",
       " 1.0000000000000202,\n",
       " 1.0000000000000215,\n",
       " 1.0000000000000213,\n",
       " 1.0000000000000242,\n",
       " 1.0000000000000246,\n",
       " 1.0000000000000238,\n",
       " 1.0000000000000238,\n",
       " 1.000000000000024,\n",
       " 1.0000000000000222,\n",
       " 1.000000000000017,\n",
       " 1.0000000000000042,\n",
       " 0.9999999999999724,\n",
       " 0.9999999999998966,\n",
       " 0.9999999999997194,\n",
       " 0.9999999999993153,\n",
       " 0.9999999999984083,\n",
       " 0.9999999999964142,\n",
       " 0.9999999999920951,\n",
       " 0.9999999999829099,\n",
       " 0.9999999999637016,\n",
       " 0.9999999999242167,\n",
       " 0.9999999998444001,\n",
       " 0.9999999996857307,\n",
       " 0.9999999993754567,\n",
       " 0.9999999987785445,\n",
       " 0.9999999976485842,\n",
       " 0.9999999955434045,\n",
       " 0.9999999916826685,\n",
       " 0.9999999847117483,\n",
       " 0.9999999723170313,\n",
       " 0.9999999506101391,\n",
       " 0.9999999131591805,\n",
       " 0.9999998494908214,\n",
       " 0.9999997428135196,\n",
       " 0.9999995666153743,\n",
       " 0.9999992796656785,\n",
       " 0.9999988187937712,\n",
       " 0.9999980886300108,\n",
       " 0.9999969472719533,\n",
       " 0.9999951865874769,\n",
       " 0.9999925055937073,\n",
       " 0.9999884750696613,\n",
       " 0.9999824912911195,\n",
       " 0.9999737165446999,\n",
       " 0.9999610039167467,\n",
       " 0.9999428037993111,\n",
       " 0.9999170496506053,\n",
       " 0.9998810208319672,\n",
       " 0.9998311808546189,\n",
       " 0.9997629901363405,\n",
       " 0.9996706934068986,\n",
       " 0.9995470832101476,\n",
       " 0.9993832425075954,\n",
       " 0.9991682711461609,\n",
       " 0.9988890028404619,\n",
       " 0.9985297212421148,\n",
       " 0.9980718855105267,\n",
       " 0.997493877432731,\n",
       " 0.9967707834296318,\n",
       " 0.9958742256020069,\n",
       " 0.9947722561954354,\n",
       " 0.993429329407576,\n",
       " 0.9918063632659266,\n",
       " 0.9898609023531583,\n",
       " 0.9875473894796294,\n",
       " 0.9848175510756392,\n",
       " 0.9816208972209555,\n",
       " 0.9779053330074541,\n",
       " 0.9736178735339178,\n",
       " 0.9687054504710808,\n",
       " 0.9631157940271621,\n",
       " 0.9567983704993095,\n",
       " 0.9497053526044787,\n",
       " 0.9417925976017696,\n",
       " 0.9330206069637708,\n",
       " 0.9233554410950577,\n",
       " 0.9127695633490028,\n",
       " 0.9012425893254009,\n",
       " 0.8887619200590755,\n",
       " 0.8753232411102106,\n",
       " 0.8609308735832304,\n",
       " 0.8455979675523788,\n",
       " 0.8293465330648898,\n",
       " 0.8122073086314213,\n",
       " 0.7942194717103269,\n",
       " 0.775430199976638,\n",
       " 0.7558940959912671,\n",
       " 0.7356724911335549,\n",
       " 0.7148326472458506,\n",
       " 0.6934468763113031,\n",
       " 0.6715915996275577,\n",
       " 0.649346368362692,\n",
       " 0.6267928671258146,\n",
       " 0.6040139213166026,\n",
       " 0.5810925276164424,\n",
       " 0.5581109251419988,\n",
       " 0.5351497226000587,\n",
       " 0.5122870943625506,\n",
       " 0.48959805582245003,\n",
       " 0.46715382578837006,\n",
       " 0.44502128111251216,\n",
       " 0.4232625062963998,\n",
       " 0.40193443854204236,\n",
       " 0.3810886066600655,\n",
       " 0.3607709604449722,\n",
       " 0.34102178560234025,\n",
       " 0.3218756980731189,\n",
       " 0.30336171064552897,\n",
       " 0.2855033640658621,\n",
       " 0.26831891443900907,\n",
       " 0.2518215685255181,\n",
       " 0.23601975856819063,\n",
       " 0.22091744848897385,\n",
       " 0.20651446365638737,\n",
       " 0.19280683690513295,\n",
       " 0.17978716406405842,\n",
       " 0.1674449628891998,\n",
       " 0.15576702998040373,\n",
       " 0.14473779096096612,\n",
       " 0.13433963990060263,\n",
       " 0.12455326464674973,\n",
       " 0.11535795538446574,\n",
       " 0.10673189436076254,\n",
       " 0.09865242527737071,\n",
       " 0.09109630137152158,\n",
       " 0.08403991166424424,\n",
       " 0.07745948525872993,\n",
       " 0.07133127391788112,\n",
       " 0.06563171344189679,\n",
       " 0.060337564606325424,\n",
       " 0.0554260346118602,\n",
       " 0.05087488014324548,\n",
       " 0.046662493240293604,\n",
       " 0.04276797125366656,\n",
       " 0.03917117219624218,\n",
       " 0.03585275681197376,\n",
       " 0.03279421867238455,\n",
       " 0.029977903580191367,\n",
       " 0.027387019513698322,\n",
       " 0.02500563828788757,\n",
       " 0.02281869004155995,\n",
       " 0.0208119515870901,\n",
       " 0.018972029582663565,\n",
       " 0.01728633940822715,\n",
       " 0.015743080547467175,\n",
       " 0.014331209200299646,\n",
       " 0.01304040877471333,\n",
       " 0.011861058834215074,\n",
       " 0.010784203008236928,\n",
       " 0.009801516308142934,\n",
       " 0.008905272231226703,\n",
       " 0.008088309979489502,\n",
       " 0.007344002069090885,\n",
       " 0.00666622256013491,\n",
       " 0.00604931609478532,\n",
       " 0.005488067894425914,\n",
       " 0.004977674833486563,\n",
       " 0.004513717678398594,\n",
       " 0.004092134554662744,\n",
       " 0.003709195682933481,\n",
       " 0.003361479406065258,\n",
       " 0.00304584951295147,\n",
       " 0.002759433851442663,\n",
       " 0.0024996042113947115,\n",
       " 0.0022639574497199735,\n",
       " 0.00205029782195913,\n",
       " 0.0018566204791385292,\n",
       " 0.0016810960843234362,\n",
       " 0.0015220565001349208,\n",
       " 0.001377981496396383,\n",
       " 0.0012474864258606847,\n",
       " 0.0011293108155018097,\n",
       " 0.0010223078210117667,\n",
       " 0.0009254344928142208,\n",
       " 0.000837742802993849,\n",
       " 0.0007583713839598124,\n",
       " 0.0006865379313388205,\n",
       " 0.000621532225464195,\n",
       " 0.0005627097278371182,\n",
       " 0.000509485711038222,\n",
       " 0.00046132988272229593,\n",
       " 0.0004177614665033629,\n",
       " 0.0003783447047042974,\n",
       " 0.0003426847500824614,\n",
       " 0.0003104239157326007,\n",
       " 0.0002812382543965357,\n",
       " 0.0002548344403651735,\n",
       " 0.0002309469290341709,\n",
       " 0.00020933537096463813,\n",
       " 0.00018978225900098157,\n",
       " 0.00017209078860753186,\n",
       " 0.0001560829131034513,\n",
       " 0.00014159757690223272,\n",
       " 0.00012848911119940583,\n",
       " 0.00011662577780218804,\n",
       " 0.0001058884479605269,\n",
       " 9.616940414355313e-05,\n",
       " 8.73712537124806e-05,\n",
       " 7.940594437412564e-05,\n",
       " 7.21938721624369e-05,\n",
       " 6.566307349256513e-05,\n",
       " 5.9748493567036665e-05,\n",
       " 5.43913240903498e-05,\n",
       " 4.9538403870593265e-05,\n",
       " 4.514167645813738e-05,\n",
       " 4.115769949562312e-05,\n",
       " 3.7547200933718955e-05,\n",
       " 3.4274677706702074e-05,\n",
       " 3.130803286384786e-05,\n",
       " 2.8618247519803596e-05,\n",
       " 2.6179084322283966e-05,\n",
       " 2.396681944109177e-05,\n",
       " 2.1960000361036816e-05,\n",
       " 2.0139227015004568e-05,\n",
       " 1.848695402429902e-05,\n",
       " 1.6987312023342167e-05,\n",
       " 1.5625946236670365e-05,\n",
       " 1.4389870649530159e-05,\n",
       " 1.3267336270791074e-05,\n",
       " 1.2247712129740588e-05,\n",
       " 1.1321377777900661e-05,\n",
       " 1.0479626184485438e-05,\n",
       " 9.71457602059169e-06,\n",
       " 9.01909242367307e-06,\n",
       " 8.386715421201309e-06,\n",
       " 7.811595271503388e-06,\n",
       " 7.288434051331539e-06,\n",
       " 6.812432884483635e-06,\n",
       " 6.379244264358048e-06,\n",
       " 5.9849289762979796e-06,\n",
       " 5.625917173460894e-06,\n",
       " 5.298973203231997e-06,\n",
       " 5.001163820315242e-06,\n",
       " 4.7298294579719005e-06,\n",
       " 4.482558260806442e-06,\n",
       " 4.257162611332582e-06,\n",
       " 4.051657908597194e-06,\n",
       " 3.8642433806570126e-06,\n",
       " 3.6932847339363236e-06,\n",
       " 3.537298461666623e-06,\n",
       " 3.3949376509153825e-06,\n",
       " 3.2649791433361284e-06,\n",
       " 3.1463119188733804e-06,\n",
       " 3.037926584387866e-06,\n",
       " 2.938905860655444e-06,\n",
       " 2.8484159715664835e-06,\n",
       " 2.7656988487096947e-06,\n",
       " 2.690065072975698e-06,\n",
       " 2.6208874824382386e-06,\n",
       " 2.5575953826538144e-06,\n",
       " 2.499669301731341e-06,\n",
       " 2.44663623812865e-06,\n",
       " 2.398065354191394e-06,\n",
       " 2.353564073015948e-06]"
      ]
     },
     "execution_count": 133,
     "metadata": {},
     "output_type": "execute_result"
    }
   ],
   "source": [
    "p3_NUM = []\n",
    "\n",
    "\n",
    "for k in range(0, 1500, 5):\n",
    "    add_num = 0\n",
    "    for i in range(J):\n",
    "        num = (np.absolute(p3_psi[i, k])**2)*dx\n",
    "        add_num = num + add_num\n",
    "    p3_NUM.append(add_num)\n",
    "    \n",
    "add_den = 0   \n",
    "for i in range(J):\n",
    "    den = (np.absolute(p3_psi[i, 0])**2)*dx\n",
    "    add_den = den + add_den\n",
    "    \n",
    "y = list(range(0, 1500, 5))\n",
    "len(y)\n",
    "\n",
    "p3_ref_coef = []\n",
    "for i in range(len(y)):\n",
    "    coef = p3_NUM[i]/add_den\n",
    "    p3_ref_coef.append(coef)\n",
    "p3_ref_coef"
   ]
  },
  {
   "cell_type": "code",
   "execution_count": 134,
   "id": "75e14e4e",
   "metadata": {},
   "outputs": [
    {
     "data": {
      "text/plain": [
       "[1.0,\n",
       " 0.9999999999999999,\n",
       " 1.0000000000000007,\n",
       " 1.0000000000000027,\n",
       " 1.0000000000000027,\n",
       " 1.0000000000000022,\n",
       " 1.0000000000000022,\n",
       " 1.000000000000004,\n",
       " 1.0000000000000029,\n",
       " 1.0000000000000042,\n",
       " 1.0000000000000049,\n",
       " 1.000000000000004,\n",
       " 1.0000000000000049,\n",
       " 1.0000000000000056,\n",
       " 1.0000000000000064,\n",
       " 1.0000000000000067,\n",
       " 1.0000000000000075,\n",
       " 1.000000000000008,\n",
       " 1.0000000000000082,\n",
       " 1.0000000000000078,\n",
       " 1.0000000000000082,\n",
       " 1.0000000000000098,\n",
       " 1.0000000000000107,\n",
       " 1.0000000000000113,\n",
       " 1.0000000000000104,\n",
       " 1.0000000000000113,\n",
       " 1.0000000000000122,\n",
       " 1.0000000000000124,\n",
       " 1.000000000000013,\n",
       " 1.0000000000000129,\n",
       " 1.000000000000014,\n",
       " 1.000000000000014,\n",
       " 1.0000000000000155,\n",
       " 1.000000000000016,\n",
       " 1.0000000000000158,\n",
       " 1.0000000000000167,\n",
       " 1.0000000000000167,\n",
       " 1.000000000000017,\n",
       " 1.000000000000018,\n",
       " 1.000000000000018,\n",
       " 1.0000000000000184,\n",
       " 1.0000000000000184,\n",
       " 1.0000000000000193,\n",
       " 1.000000000000019,\n",
       " 1.0000000000000204,\n",
       " 1.0000000000000209,\n",
       " 1.0000000000000193,\n",
       " 1.0000000000000209,\n",
       " 1.000000000000021,\n",
       " 1.0000000000000235,\n",
       " 1.0000000000000244,\n",
       " 1.000000000000023,\n",
       " 1.0000000000000244,\n",
       " 1.0000000000000242,\n",
       " 1.0000000000000222,\n",
       " 1.000000000000018,\n",
       " 1.0000000000000058,\n",
       " 0.9999999999999737,\n",
       " 0.9999999999999002,\n",
       " 0.9999999999997276,\n",
       " 0.9999999999993352,\n",
       " 0.9999999999984501,\n",
       " 0.9999999999965014,\n",
       " 0.9999999999922772,\n",
       " 0.9999999999832804,\n",
       " 0.9999999999644472,\n",
       " 0.9999999999256876,\n",
       " 0.9999999998472582,\n",
       " 0.9999999996911848,\n",
       " 0.9999999993856934,\n",
       " 0.9999999987974517,\n",
       " 0.9999999976829347,\n",
       " 0.9999999956048151,\n",
       " 0.9999999917907244,\n",
       " 0.9999999848989073,\n",
       " 0.9999999726362102,\n",
       " 0.99999995114619,\n",
       " 0.9999999140459643,\n",
       " 0.9999998509361469,\n",
       " 0.9999997451348908,\n",
       " 0.9999995702903252,\n",
       " 0.9999992854013638,\n",
       " 0.9999988276214152,\n",
       " 0.9999981020307966,\n",
       " 0.9999969673417424,\n",
       " 0.9999952162483686,\n",
       " 0.999992548860724,\n",
       " 0.9999885373805745,\n",
       " 0.999982579906555,\n",
       " 0.9999738410239174,\n",
       " 0.999961176671943,\n",
       " 0.9999430407277135,\n",
       " 0.9999173708392316,\n",
       " 0.9998814513246769,\n",
       " 0.9998317514652875,\n",
       " 0.9997637382859835,\n",
       " 0.9996716639566343,\n",
       " 0.9995483292566183,\n",
       " 0.9993848261032268,\n",
       " 0.9991702639040055,\n",
       " 0.9988914863825719,\n",
       " 0.9985327874519293,\n",
       " 0.9980756365535844,\n",
       " 0.9974984255162404,\n",
       " 0.996776250279743,\n",
       " 0.9958807416476926,\n",
       " 0.9947799594591571,\n",
       " 0.9934383641147171,\n",
       " 0.9918168781965652,\n",
       " 0.9898730489704819,\n",
       " 0.9875613198784808,\n",
       " 0.9848334158016885,\n",
       " 0.9816388430156107,\n",
       " 0.977925500535457,\n",
       " 0.9736403951497897,\n",
       " 0.9687304480772466,\n",
       " 0.9631433770711224,\n",
       " 0.9568286341501311,\n",
       " 0.9497383761406367,\n",
       " 0.9418284430337072,\n",
       " 0.9330593179058895,\n",
       " 0.9233970418938523,\n",
       " 0.9128140584670188,\n",
       " 0.9012899629749346,\n",
       " 0.8888121360752472,\n",
       " 0.875376243050125,\n",
       " 0.8609865850364312,\n",
       " 0.8456562926473643,\n",
       " 0.8294073571569258,\n",
       " 0.8122704991578722,\n",
       " 0.7942848792010071,\n",
       " 0.7754976592078705,\n",
       " 0.7559634272732957,\n",
       " 0.735743501721438,\n",
       " 0.7149051328638741,\n",
       " 0.6935206227803139,\n",
       " 0.6716663845833786,\n",
       " 0.6494219630521201,\n",
       " 0.626869038264716,\n",
       " 0.6040904329924817,\n",
       " 0.5811691432157725,\n",
       " 0.5581874092807348,\n",
       " 0.5352258430342589,\n",
       " 0.5123626238550711,\n",
       " 0.4896727739413382,\n",
       " 0.46722752061291906,\n",
       " 0.44509375082398545,\n",
       " 0.4233335606321686,\n",
       " 0.40200390009422676,\n",
       " 0.38115631200266903,\n",
       " 0.3608367610768296,\n",
       " 0.3410855486968219,\n",
       " 0.32193730702935736,\n",
       " 0.303421065439761,\n",
       " 0.28556038140526213,\n",
       " 0.2683735277239394,\n",
       " 0.2518737276293873,\n",
       " 0.23606942944700002,\n",
       " 0.22096461263506775,\n",
       " 0.20655911741289015,\n",
       " 0.19284899065901673,\n",
       " 0.17982684133675017,\n",
       " 0.1674821993441083,\n",
       " 0.15580187236677476,\n",
       " 0.1447702960130739,\n",
       " 0.1343698732105309,\n",
       " 0.12458129952794166,\n",
       " 0.11538387174190434,\n",
       " 0.106755777582122,\n",
       " 0.09867436515782933,\n",
       " 0.0911163910831903,\n",
       " 0.0840582467793971,\n",
       " 0.07747616283426653,\n",
       " 0.07134639164674456,\n",
       " 0.06564536887554887,\n",
       " 0.06034985445086212,\n",
       " 0.05543705409896527,\n",
       " 0.050884722475930705,\n",
       " 0.04667124911227838,\n",
       " 0.04277572844030307,\n",
       " 0.039178015214101664,\n",
       " 0.035858766643563585,\n",
       " 0.032799472551963,\n",
       " 0.029982474836275256,\n",
       " 0.027390977463606973,\n",
       " 0.025009048179525605,\n",
       " 0.022821613037594626,\n",
       " 0.020814444786717075,\n",
       " 0.018974146076263132,\n",
       " 0.017288128360380545,\n",
       " 0.015744587304016597,\n",
       " 0.014332475415386096,\n",
       " 0.013041472554004029,\n",
       " 0.011861954890827033,\n",
       " 0.010784962828168392,\n",
       " 0.009802168322333054,\n",
       " 0.008905841991669682,\n",
       " 0.008088820337128688,\n",
       " 0.007344473351506321,\n",
       " 0.006666672747311863,\n",
       " 0.006049760991509378,\n",
       " 0.005488521298090255,\n",
       " 0.004978148696318204,\n",
       " 0.004514222263312445,\n",
       " 0.004092678584134712,\n",
       " 0.003709786480447179,\n",
       " 0.0033621230298317,\n",
       " 0.0030465508817279718,\n",
       " 0.00276019686238724,\n",
       " 0.00250043184998656,\n",
       " 0.002264851891856224,\n",
       " 0.002051260528404304,\n",
       " 0.0018576522825570463,\n",
       " 0.001682197269168581,\n",
       " 0.0015232268757007512,\n",
       " 0.0013792204633635173,\n",
       " 0.0012487930366837205,\n",
       " 0.0011306838289962967,\n",
       " 0.0010237457515031578,\n",
       " 0.0009269356542108994,\n",
       " 0.0008393053481419856,\n",
       " 0.0007599933396300912,\n",
       " 0.0006882172291847539,\n",
       " 0.0006232667292792311,\n",
       " 0.0005644972574236768,\n",
       " 0.0005113240629865045,\n",
       " 0.0004632168483806734,\n",
       " 0.00041969484740559537,\n",
       " 0.0003803223257021144,\n",
       " 0.0003447044704153376,\n",
       " 0.00031248363825010143,\n",
       " 0.0002833359331325237,\n",
       " 0.0002569680866475818,\n",
       " 0.00023311461629910374,\n",
       " 0.00021153523842922585,\n",
       " 0.00019201251433587866,\n",
       " 0.00017434970973710334,\n",
       " 0.00015836884924967144,\n",
       " 0.00014390894897704518,\n",
       " 0.0001308244116398205,\n",
       " 0.00011898356993265255,\n",
       " 0.00010826736495813157,\n",
       " 9.856814767335275e-05,\n",
       " 8.978859229262349e-05,\n",
       " 8.1840711523547e-05,\n",
       " 7.464496437753948e-05,\n",
       " 6.81294480935736e-05,\n",
       " 6.222916644950058e-05,\n",
       " 5.6885367412579976e-05,\n",
       " 5.2044943703580475e-05,\n",
       " 4.765989042072053e-05,\n",
       " 4.3686814394267404e-05,\n",
       " 4.008649042325885e-05,\n",
       " 3.6823459985703705e-05,\n",
       " 3.386566841587431e-05,\n",
       " 3.118413690976995e-05,\n",
       " 2.875266605524306e-05,\n",
       " 2.6547567889181083e-05,\n",
       " 2.454742376291081e-05,\n",
       " 2.273286555086212e-05,\n",
       " 2.1086377968558735e-05,\n",
       " 1.9592119976127538e-05,\n",
       " 1.823576343448989e-05,\n",
       " 1.7004347354898403e-05,\n",
       " 1.5886146239989207e-05,\n",
       " 1.4870551157467932e-05,\n",
       " 1.3947962317200964e-05,\n",
       " 1.3109692040034615e-05,\n",
       " 1.2347877113203668e-05,\n",
       " 1.165539962369693e-05,\n",
       " 1.1025815448356287e-05,\n",
       " 1.0453289658600031e-05,\n",
       " 9.932538169274706e-06,\n",
       " 9.458775025918732e-06,\n",
       " 9.027664783318394e-06,\n",
       " 8.635279481222026e-06,\n",
       " 8.278059770975956e-06,\n",
       " 7.952779790140545e-06,\n",
       " 7.656515421264421e-06,\n",
       " 7.38661560634165e-06,\n",
       " 7.1406764204025445e-06,\n",
       " 6.916517636527032e-06,\n",
       " 6.712161540609562e-06,\n",
       " 6.525813777717693e-06,\n",
       " 6.355846033116242e-06,\n",
       " 6.200780370192021e-06,\n",
       " 6.0592750648154224e-06,\n",
       " 5.9301117912882846e-06,\n",
       " 5.812184029123157e-06,\n",
       " 5.704486572618163e-06,\n",
       " 5.606106036673898e-06,\n",
       " 5.516212262659447e-06,\n",
       " 5.434050537488236e-06,\n",
       " 5.358934547504425e-06,\n",
       " 5.290239996401103e-06,\n",
       " 5.2273988232680256e-06,\n",
       " 5.169893963077095e-06,\n",
       " 5.1172545975185075e-06,\n",
       " 5.069051849162612e-06,\n",
       " 5.024894876493212e-06]"
      ]
     },
     "execution_count": 134,
     "metadata": {},
     "output_type": "execute_result"
    }
   ],
   "source": [
    "p4_NUM = []\n",
    "\n",
    "\n",
    "for k in range(0, 1500, 5):\n",
    "    add_num = 0\n",
    "    for i in range(J):\n",
    "        num = (np.absolute(p4_psi[i, k])**2)*dx\n",
    "        add_num = num + add_num\n",
    "    p4_NUM.append(add_num)\n",
    "    \n",
    "add_den = 0   \n",
    "for i in range(J):\n",
    "    den = (np.absolute(p4_psi[i, 0])**2)*dx\n",
    "    add_den = den + add_den\n",
    "    \n",
    "y = list(range(0, 1500, 5))\n",
    "len(y)\n",
    "\n",
    "p4_ref_coef = []\n",
    "for i in range(len(y)):\n",
    "    coef = p4_NUM[i]/add_den\n",
    "    p4_ref_coef.append(coef)\n",
    "p4_ref_coef"
   ]
  },
  {
   "cell_type": "code",
   "execution_count": 135,
   "id": "ba97c83f",
   "metadata": {},
   "outputs": [
    {
     "data": {
      "image/png": "[encoded data removed]",
      "text/plain": [
       "<Figure size 432x288 with 1 Axes>"
      ]
     },
     "metadata": {
      "needs_background": "light"
     },
     "output_type": "display_data"
    }
   ],
   "source": [
    "plt.semilogy(y, p2_ref_coef, color = \"r\", label = \"p2\")\n",
    "plt.semilogy(y, p3_ref_coef, color = \"c\", label = \"p3\")\n",
    "plt.semilogy(y, p4_ref_coef, color = \"m\", label = \"p4\")\n",
    "plt.semilogy(y, LAM_ref_coef, color = \"b\", label = \"LAM\")\n",
    "plt.semilogy(y, RFA_ref_coef, color = \"g\", label = \"RFA\")\n",
    "\n",
    "plt.xlabel(\"Time Axis\")\n",
    "plt.ylabel(\"Reflection Coefficient\")\n",
    "plt.legend()\n",
    "plt.show()"
   ]
  },
  {
   "cell_type": "code",
   "execution_count": null,
   "id": "7805ea4e",
   "metadata": {},
   "outputs": [],
   "source": []
  },
  {
   "cell_type": "code",
   "execution_count": null,
   "id": "88c6caff",
   "metadata": {},
   "outputs": [],
   "source": []
  },
  {
   "cell_type": "code",
   "execution_count": null,
   "id": "30176efa",
   "metadata": {},
   "outputs": [],
   "source": []
  },
  {
   "cell_type": "code",
   "execution_count": 136,
   "id": "5b8e6f48",
   "metadata": {},
   "outputs": [],
   "source": [
    "#Here we concluded, the p = 3, is best for our given solution, where Rational fucntion approximation is the least. \n",
    "\n",
    "#Linear Approximation is quite better than Rational fucntion Approximation\n",
    "\n",
    "#New Absorbing boundary conditions are much better than RFA and LAM"
   ]
  },
  {
   "cell_type": "code",
   "execution_count": null,
   "id": "f5492589",
   "metadata": {},
   "outputs": [],
   "source": []
  },
  {
   "cell_type": "code",
   "execution_count": null,
   "id": "73d4a863",
   "metadata": {},
   "outputs": [],
   "source": []
  },
  {
   "cell_type": "markdown",
   "id": "aece26ac",
   "metadata": {},
   "source": [
    "# Thank You"
   ]
  }
 ],
 "metadata": {
  "kernelspec": {
   "display_name": "Python 3 (ipykernel)",
   "language": "python",
   "name": "python3"
  },
  "language_info": {
   "codemirror_mode": {
    "name": "ipython",
    "version": 3
   },
   "file_extension": ".py",
   "mimetype": "text/x-python",
   "name": "python",
   "nbconvert_exporter": "python",
   "pygments_lexer": "ipython3",
   "version": "3.9.12"
  }
 },
 "nbformat": 4,
 "nbformat_minor": 5
}
