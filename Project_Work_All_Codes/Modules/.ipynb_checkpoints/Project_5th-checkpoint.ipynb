{
 "cells": [
  {
   "cell_type": "markdown",
   "id": "0af496bc",
   "metadata": {},
   "source": [
    "# Using all the fucntions from our Module. Then, comparing the methods, using there reflectivity."
   ]
  },
  {
   "cell_type": "code",
   "execution_count": null,
   "id": "583cbf5c",
   "metadata": {},
   "outputs": [],
   "source": []
  },
  {
   "cell_type": "code",
   "execution_count": 1,
   "id": "093465b3",
   "metadata": {},
   "outputs": [],
   "source": [
    "#Author - Devashish and Darsh\n",
    "#Date - 8th August, 2023"
   ]
  },
  {
   "cell_type": "code",
   "execution_count": null,
   "id": "706b5327",
   "metadata": {},
   "outputs": [],
   "source": []
  },
  {
   "cell_type": "code",
   "execution_count": 2,
   "id": "64dddf3b",
   "metadata": {},
   "outputs": [],
   "source": [
    "import numpy as np\n",
    "import scipy\n",
    "import matplotlib.pyplot as plt\n",
    "from scipy import sparse\n",
    "from scipy.sparse import diags, linalg\n",
    "import scipy.sparse.linalg as splin"
   ]
  },
  {
   "cell_type": "code",
   "execution_count": 3,
   "id": "09f8745f",
   "metadata": {},
   "outputs": [],
   "source": [
    "import CrankNikolson\n",
    "import LAM\n",
    "import RFA\n",
    "import P2_ABC\n",
    "import P2_ABC\n",
    "import P4_ABC\n",
    "import others\n",
    "from others import Gaussian_Function"
   ]
  },
  {
   "cell_type": "code",
   "execution_count": 4,
   "id": "1366386c",
   "metadata": {},
   "outputs": [
    {
     "data": {
      "text/plain": [
       "1024"
      ]
     },
     "execution_count": 4,
     "metadata": {},
     "output_type": "execute_result"
    }
   ],
   "source": [
    "#Initializing the conditions. \n",
    "\n",
    "#defining the values so as to impliment in Crank Nikolson method\n",
    "\n",
    "J = 1024                                                 #number of grid points\n",
    "m = 0.5                                   #mass of the particle is set to 0.5 units, through the calculations\n",
    "xmin, xmax      =  -10. , 10.                                  # x domain \n",
    "t0  , tend      =    0 , 2.0                                  # time period\n",
    "centre , k0, sigma   =  0 , 7. ,1                           # parameters for the gaussian \n",
    "E               =   k0**2                                   # particle energy\n",
    "dt              =   0.001                                      # time step\n",
    "q               =   2*k0                        #q is the parameter for absorbing boundary condition\n",
    "w               =   0.2                     #w is another parameter for p = 4 aborbing boundary codnition \n",
    "\n",
    "x_Range, dx  = np.linspace(xmin,xmax,J,retstep=True)     # x-array and calculation of x step    \n",
    "t      = np.arange(t0, tend + dt, dt)  \n",
    "N = len(t)                                         #number of points in time array\n",
    "len(x_Range)                                              #length of array x must be qual to J"
   ]
  },
  {
   "cell_type": "code",
   "execution_count": 5,
   "id": "b33b3295",
   "metadata": {},
   "outputs": [
    {
     "name": "stdout",
     "output_type": "stream",
     "text": [
      "Help on function Gaussian_Function in module others:\n",
      "\n",
      "Gaussian_Function(x_Range, centre, k0, sigma)\n",
      "\n"
     ]
    }
   ],
   "source": [
    "help(Gaussian_Function)"
   ]
  },
  {
   "cell_type": "code",
   "execution_count": 6,
   "id": "4ed2e2b8",
   "metadata": {},
   "outputs": [
    {
     "data": {
      "text/plain": [
       "[<matplotlib.lines.Line2D at 0x1e0b8b078e0>]"
      ]
     },
     "execution_count": 6,
     "metadata": {},
     "output_type": "execute_result"
    },
    {
     "data": {
      "image/png": "[encoded data removed]",
      "text/plain": [
       "<Figure size 432x288 with 1 Axes>"
      ]
     },
     "metadata": {
      "needs_background": "light"
     },
     "output_type": "display_data"
    }
   ],
   "source": [
    "psi0   = Gaussian_Function(x_Range,centre,k0,sigma)      #Initializing the eave packet\n",
    "plt.plot(x_Range, np.absolute(psi0))"
   ]
  },
  {
   "cell_type": "code",
   "execution_count": null,
   "id": "a0fa8417",
   "metadata": {},
   "outputs": [],
   "source": []
  },
  {
   "cell_type": "markdown",
   "id": "071a3a65",
   "metadata": {},
   "source": [
    "# Linear Function Approximation"
   ]
  },
  {
   "cell_type": "code",
   "execution_count": 6,
   "id": "3875d6f3",
   "metadata": {},
   "outputs": [],
   "source": [
    "#Solving Using Linear Approximation Method\n",
    "\n",
    "from LAM import LAM_ABC\n",
    "from LAM import CN_LAM\n",
    "from LAM import LAM_CN_Solve"
   ]
  },
  {
   "cell_type": "code",
   "execution_count": 7,
   "id": "7c7e1537",
   "metadata": {
    "scrolled": true
   },
   "outputs": [
    {
     "name": "stdout",
     "output_type": "stream",
     "text": [
      "Help on module LAM:\n",
      "\n",
      "NAME\n",
      "    LAM - Created on Sat Apr  8 01:27:04 2023\n",
      "\n",
      "DESCRIPTION\n",
      "    @author: Devashish and Darsh\n",
      "\n",
      "FUNCTIONS\n",
      "    CN_LAM(J, V, LAM_zeta, dx, dt, m)\n",
      "        The function takes the input as, \n",
      "        J - length of array\n",
      "        V - Potential array\n",
      "        LAM_zeta - ABC which is defined for Rational Functiuon Approximation\n",
      "        dx - grid step\n",
      "        dt - time step\n",
      "        m - mass which is fixed in our case as 0.5\n",
      "    \n",
      "    LAM_ABC(g1, g2, V, dt, dx, m, k0)\n",
      "        The function will provide the necessary matrix, for solving Schodinger Wave Equation using\n",
      "        Crank Nikolson Scheme, with Linear Approximation method of Absorbing Boundary Conditions\n",
      "        \n",
      "        \n",
      "        The functions take the input as, \n",
      "        \n",
      "        Potential Array, whose length should be equal to number of gird points\n",
      "        g1 and g2 are parameters derived in our report. \n",
      "        \n",
      "        \n",
      "        dt - Time step\n",
      "        dx - grid step\n",
      "        m - mass, which is fixed in our case as 0.5\n",
      "        k0 - Parameter of guassian, changing this, changes the shape of guassian, to much extent\n",
      "    \n",
      "    LAM_CN_Solve(g1, g2, x_Range, dx, t, dt, LAM_psi0, V, m, k0)\n",
      "        This fucntion solve the schrodinger wave equation for Linear Approximation method, knowing the fucntions, CM_LAM, \n",
      "        and LAM_ZETA\n",
      "        \n",
      "        This requires the input,\n",
      "        x_Range - Range of grid points\n",
      "        dx, dt, time points, \n",
      "        m which is fixed\n",
      "        LAM_psi0, which is initial wave packet\n",
      "\n",
      "FILE\n",
      "    c:\\users\\devashish\\desktop\\world of programming\\nmp_project\\project_work_all_codes\\modules\\lam.py\n",
      "\n",
      "\n"
     ]
    }
   ],
   "source": [
    "help(LAM)"
   ]
  },
  {
   "cell_type": "code",
   "execution_count": 8,
   "id": "cc972f52",
   "metadata": {},
   "outputs": [
    {
     "name": "stdout",
     "output_type": "stream",
     "text": [
      "Help on function CN_LAM in module LAM:\n",
      "\n",
      "CN_LAM(J, V, LAM_zeta, dx, dt, m)\n",
      "    The function takes the input as, \n",
      "    J - length of array\n",
      "    V - Potential array\n",
      "    LAM_zeta - ABC which is defined for Rational Functiuon Approximation\n",
      "    dx - grid step\n",
      "    dt - time step\n",
      "    m - mass which is fixed in our case as 0.5\n",
      "\n"
     ]
    }
   ],
   "source": [
    "help(CN_LAM)"
   ]
  },
  {
   "cell_type": "code",
   "execution_count": 9,
   "id": "64dfcb62",
   "metadata": {},
   "outputs": [
    {
     "name": "stdout",
     "output_type": "stream",
     "text": [
      "Help on function LAM_CN_Solve in module LAM:\n",
      "\n",
      "LAM_CN_Solve(g1, g2, x_Range, dx, t, dt, LAM_psi0, V, m, k0)\n",
      "    This fucntion solve the schrodinger wave equation for Linear Approximation method, knowing the fucntions, CM_LAM, \n",
      "    and LAM_ZETA\n",
      "    \n",
      "    This requires the input,\n",
      "    x_Range - Range of grid points\n",
      "    dx, dt, time points, \n",
      "    m which is fixed\n",
      "    LAM_psi0, which is initial wave packet\n",
      "\n"
     ]
    }
   ],
   "source": [
    "help(LAM_CN_Solve)"
   ]
  },
  {
   "cell_type": "code",
   "execution_count": null,
   "id": "f1ff77f4",
   "metadata": {},
   "outputs": [],
   "source": []
  },
  {
   "cell_type": "code",
   "execution_count": 10,
   "id": "fd1867aa",
   "metadata": {},
   "outputs": [],
   "source": [
    "#lets first define what are g1 and g2, and initialize some of the more variables. \n",
    "\n",
    "alpha1 = 37                          #Changing the alpha1 and alpha2, in some ratio, \n",
    "                                     #changes the nature of absorbing boundary conditions heavily                 \n",
    "alpha2 = 39\n",
    "\n",
    "\n",
    "g1 = (np.sqrt(2*m*alpha2) - np.sqrt(2*m*alpha1))/(alpha2 - alpha1)              #The parameters are defined in our report\n",
    "g2 = (alpha2*np.sqrt(2*m*alpha1) - alpha1*np.sqrt(2*m*alpha2))/(alpha2 - alpha1)\n",
    "\n",
    "\n",
    "V = np.zeros(len(x_Range))"
   ]
  },
  {
   "cell_type": "code",
   "execution_count": 11,
   "id": "49de1ec4",
   "metadata": {},
   "outputs": [
    {
     "data": {
      "text/plain": [
       "array([[ 0.          +0.j        ,  0.          +0.j        ],\n",
       "       [-9.49670996-815.28247552j, -9.49670996-815.28247552j],\n",
       "       [-9.49670996-184.71752448j, -9.49670996-184.71752448j],\n",
       "       [ 9.49670996-184.71752448j,  9.49670996-184.71752448j],\n",
       "       [ 9.49670996-815.28247552j,  9.49670996-815.28247552j]])"
      ]
     },
     "execution_count": 11,
     "metadata": {},
     "output_type": "execute_result"
    }
   ],
   "source": [
    "lam_zeta = LAM_ABC(g1, g2, V,dt,dx,m, k0)\n",
    "lam_zeta"
   ]
  },
  {
   "cell_type": "code",
   "execution_count": 12,
   "id": "971be4a7",
   "metadata": {},
   "outputs": [],
   "source": [
    "lam_U1, LAM_U2 = CN_LAM(J, V, lam_zeta, dx, dt, m)"
   ]
  },
  {
   "cell_type": "code",
   "execution_count": 13,
   "id": "01cf8389",
   "metadata": {},
   "outputs": [],
   "source": [
    "lam_psi = LAM_CN_Solve(g1, g2, x_Range, dx, t, dt, psi0, V, m, k0)"
   ]
  },
  {
   "cell_type": "code",
   "execution_count": 14,
   "id": "e3beec0a",
   "metadata": {
    "scrolled": true
   },
   "outputs": [
    {
     "data": {
      "image/png": "[encoded data removed]",
      "text/plain": [
       "<Figure size 432x288 with 1 Axes>"
      ]
     },
     "metadata": {
      "needs_background": "light"
     },
     "output_type": "display_data"
    },
    {
     "data": {
      "image/png": "[encoded data removed]",
      "text/plain": [
       "<Figure size 432x288 with 1 Axes>"
      ]
     },
     "metadata": {
      "needs_background": "light"
     },
     "output_type": "display_data"
    },
    {
     "data": {
      "image/png": "[encoded data removed]",
      "text/plain": [
       "<Figure size 432x288 with 1 Axes>"
      ]
     },
     "metadata": {
      "needs_background": "light"
     },
     "output_type": "display_data"
    },
    {
     "data": {
      "image/png": "[encoded data removed]",
      "text/plain": [
       "<Figure size 432x288 with 1 Axes>"
      ]
     },
     "metadata": {
      "needs_background": "light"
     },
     "output_type": "display_data"
    },
    {
     "data": {
      "image/png": "[encoded data removed]",
      "text/plain": [
       "<Figure size 432x288 with 1 Axes>"
      ]
     },
     "metadata": {
      "needs_background": "light"
     },
     "output_type": "display_data"
    }
   ],
   "source": [
    "x_range = [-10, 10]\n",
    "y_range = [0, 0.7]\n",
    "\n",
    "\n",
    "for i in range(0, 1500, 300):\n",
    "    \n",
    "    plt.figure()\n",
    "    plt.plot(x_Range, np.absolute(lam_psi[:, i])**2)\n",
    "    \n",
    "    plt.xlim(x_range)\n",
    "    plt.ylim(y_range)\n",
    "    \n",
    "    \n",
    "#The reflection vanished"
   ]
  },
  {
   "cell_type": "code",
   "execution_count": null,
   "id": "b6e4de14",
   "metadata": {},
   "outputs": [],
   "source": []
  },
  {
   "cell_type": "code",
   "execution_count": null,
   "id": "1618481f",
   "metadata": {},
   "outputs": [],
   "source": []
  },
  {
   "cell_type": "markdown",
   "id": "d421f776",
   "metadata": {},
   "source": [
    "# Rational Function Approximation"
   ]
  },
  {
   "cell_type": "code",
   "execution_count": 15,
   "id": "c4ce8a5d",
   "metadata": {},
   "outputs": [],
   "source": [
    "#Solving using Rational Function Approximation\n",
    "\n",
    "\n",
    "from RFA import RFA_ABC\n",
    "from RFA import CN_RFA\n",
    "from RFA import RFA_CN_Solve"
   ]
  },
  {
   "cell_type": "code",
   "execution_count": 16,
   "id": "000234e6",
   "metadata": {},
   "outputs": [
    {
     "name": "stdout",
     "output_type": "stream",
     "text": [
      "Help on function RFA_ABC in module RFA:\n",
      "\n",
      "RFA_ABC(V, dt, dx, m, k0)\n",
      "    The fucntions atke the inpur as, \n",
      "    \n",
      "    V - Potential array, \n",
      "    dt\n",
      "    dx, \n",
      "    mass which is fixed as 0.5\n",
      "    and k0, parameter for Gaussian\n",
      "    \n",
      "    This computes the required elements for changing ABCs.\n",
      "\n"
     ]
    }
   ],
   "source": [
    "help(RFA_ABC)"
   ]
  },
  {
   "cell_type": "code",
   "execution_count": 17,
   "id": "a9edc930",
   "metadata": {},
   "outputs": [
    {
     "data": {
      "text/plain": [
       "array([[     0.      +0.j   ,      0.      +0.j   ],\n",
       "       [ 51064.25-14259.525j,  51064.25-14259.525j],\n",
       "       [-51235.75 -6740.475j, -51235.75 -6740.475j],\n",
       "       [ 51064.25 -6740.475j,  51064.25 -6740.475j],\n",
       "       [-51235.75-14259.525j, -51235.75-14259.525j]])"
      ]
     },
     "execution_count": 17,
     "metadata": {},
     "output_type": "execute_result"
    }
   ],
   "source": [
    "rfa_zeta = RFA_ABC(V, dt, dx, m, k0)\n",
    "rfa_zeta"
   ]
  },
  {
   "cell_type": "code",
   "execution_count": 18,
   "id": "09a266a1",
   "metadata": {},
   "outputs": [
    {
     "name": "stdout",
     "output_type": "stream",
     "text": [
      "Help on function CN_RFA in module RFA:\n",
      "\n",
      "CN_RFA(J, V, RFA_zeta, dx, dt, m)\n",
      "    The function takes the input as, \n",
      "    J - length of array\n",
      "    V - Potential array\n",
      "    RFA_Zeta - ABC which is defined for Rational Functiuon Approximation\n",
      "    dx - grid step\n",
      "    dt - time step\n",
      "    m - mass which is fixed in our case as 0.5\n",
      "\n"
     ]
    }
   ],
   "source": [
    "help(CN_RFA)"
   ]
  },
  {
   "cell_type": "code",
   "execution_count": 19,
   "id": "99552494",
   "metadata": {},
   "outputs": [],
   "source": [
    "rfa_u1, rfa_u2 = CN_RFA(J, V, rfa_zeta, dx, dt, m)"
   ]
  },
  {
   "cell_type": "code",
   "execution_count": 20,
   "id": "bde8be0e",
   "metadata": {},
   "outputs": [
    {
     "name": "stdout",
     "output_type": "stream",
     "text": [
      "Help on function RFA_CN_Solve in module RFA:\n",
      "\n",
      "RFA_CN_Solve(x_Range, dx, t, dt, RFA_psi0, V, m, k0)\n",
      "    This fucntion solve the schrodinger wave equation for Linear Approximation method, knowing the fucntions, CM_LAM, \n",
      "    and LAM_ZETA\n",
      "    \n",
      "    This requires the input,\n",
      "\n"
     ]
    }
   ],
   "source": [
    "help(RFA_CN_Solve)"
   ]
  },
  {
   "cell_type": "code",
   "execution_count": 21,
   "id": "bfa6dc57",
   "metadata": {
    "scrolled": true
   },
   "outputs": [
    {
     "data": {
      "text/plain": [
       "array([[ 9.17510606e-23-1.12116119e-22j,  7.89881587e-23-1.09910594e-22j,\n",
       "         7.43938824e-23-1.16484458e-22j, ...,\n",
       "         2.05585324e-02-4.24322098e-02j,  1.81974180e-02-4.36282281e-02j,\n",
       "         1.57689395e-02-4.46913905e-02j],\n",
       "       [ 1.29092639e-22-1.19807127e-22j,  1.19754024e-22-1.07348321e-22j,\n",
       "         1.13176673e-22-1.05773683e-22j, ...,\n",
       "         1.56867986e-02-4.46245968e-02j,  1.32010589e-02-4.55474125e-02j,\n",
       "         1.06634405e-02-4.63305329e-02j],\n",
       "       [ 1.75272568e-22-1.22829488e-22j,  1.61205446e-22-1.02315962e-22j,\n",
       "         1.52477612e-22-9.25050570e-23j, ...,\n",
       "         1.04359412e-02-4.58775588e-02j,  7.87839390e-03-4.65058436e-02j,\n",
       "         5.28560541e-03-4.69905924e-02j],\n",
       "       ...,\n",
       "       [ 1.75272568e-22+1.22829488e-22j,  1.94530874e-22+1.49827744e-22j,\n",
       "         2.14618042e-22+1.80022100e-22j, ...,\n",
       "        -3.79410880e-05-3.20402433e-06j, -3.77356628e-05-2.93820861e-06j,\n",
       "        -3.75298581e-05-2.67561606e-06j],\n",
       "       [ 1.29092639e-22+1.19807127e-22j,  1.40442287e-22+1.43251958e-22j,\n",
       "         1.51044221e-22+1.69166106e-22j, ...,\n",
       "        -3.85627467e-05-3.89367903e-06j, -3.83577472e-05-3.61891007e-06j,\n",
       "        -3.81522999e-05-3.34742882e-06j],\n",
       "       [ 9.17510606e-23+1.12116119e-22j,  9.54373226e-23+1.32668788e-22j,\n",
       "         9.81963758e-23+1.54213040e-22j, ...,\n",
       "        -3.90787540e-05-4.66159960e-06j, -3.88754408e-05-4.37805381e-06j,\n",
       "        -3.86716037e-05-4.09784967e-06j]])"
      ]
     },
     "execution_count": 21,
     "metadata": {},
     "output_type": "execute_result"
    }
   ],
   "source": [
    "rfa_psi =RFA_CN_Solve(x_Range, dx, t, dt, psi0, V, m, k0)\n",
    "rfa_psi"
   ]
  },
  {
   "cell_type": "code",
   "execution_count": 22,
   "id": "cdbf2917",
   "metadata": {
    "scrolled": true
   },
   "outputs": [
    {
     "data": {
      "image/png": "[encoded data removed]",
      "text/plain": [
       "<Figure size 432x288 with 1 Axes>"
      ]
     },
     "metadata": {
      "needs_background": "light"
     },
     "output_type": "display_data"
    },
    {
     "data": {
      "image/png": "[encoded data removed]",
      "text/plain": [
       "<Figure size 432x288 with 1 Axes>"
      ]
     },
     "metadata": {
      "needs_background": "light"
     },
     "output_type": "display_data"
    },
    {
     "data": {
      "image/png": "[encoded data removed]",
      "text/plain": [
       "<Figure size 432x288 with 1 Axes>"
      ]
     },
     "metadata": {
      "needs_background": "light"
     },
     "output_type": "display_data"
    },
    {
     "data": {
      "image/png": "[encoded data removed]",
      "text/plain": [
       "<Figure size 432x288 with 1 Axes>"
      ]
     },
     "metadata": {
      "needs_background": "light"
     },
     "output_type": "display_data"
    },
    {
     "data": {
      "image/png": "[encoded data removed]",
      "text/plain": [
       "<Figure size 432x288 with 1 Axes>"
      ]
     },
     "metadata": {
      "needs_background": "light"
     },
     "output_type": "display_data"
    }
   ],
   "source": [
    "x_range = [-10, 10]\n",
    "y_range = [0, 0.7]\n",
    "\n",
    "\n",
    "for i in range(0, 1500, 300):\n",
    "    \n",
    "    plt.figure()\n",
    "    plt.plot(x_Range, np.absolute(lam_psi[:, i])**2)\n",
    "    \n",
    "    plt.xlim(x_range)\n",
    "    plt.ylim(y_range)\n",
    "    \n",
    "    \n",
    "#The reflection vanished"
   ]
  },
  {
   "cell_type": "code",
   "execution_count": null,
   "id": "6b5243bb",
   "metadata": {},
   "outputs": [],
   "source": []
  },
  {
   "cell_type": "markdown",
   "id": "f2d371ac",
   "metadata": {},
   "source": [
    "# p=2"
   ]
  },
  {
   "cell_type": "code",
   "execution_count": 23,
   "id": "a40c4c95",
   "metadata": {},
   "outputs": [],
   "source": [
    "from P2_ABC import P2_ABC\n",
    "from P2_ABC import CN_P2\n",
    "from P2_ABC import p2_Solve_CN"
   ]
  },
  {
   "cell_type": "code",
   "execution_count": 24,
   "id": "6b8f29ee",
   "metadata": {},
   "outputs": [
    {
     "name": "stdout",
     "output_type": "stream",
     "text": [
      "Help on function P2_ABC in module P2_ABC:\n",
      "\n",
      "P2_ABC(q1, q2, V, dt, dx, m=0.5)\n",
      "    ABC with p=2. This function computes the matrix zeta, for substituting in Crank Nikolson method.\n",
      "\n"
     ]
    }
   ],
   "source": [
    "help(P2_ABC)"
   ]
  },
  {
   "cell_type": "code",
   "execution_count": 25,
   "id": "22c36182",
   "metadata": {},
   "outputs": [
    {
     "data": {
      "text/plain": [
       "array([[ 0.    +0.j        ,  0.    +0.j        ],\n",
       "       [-0.875-61.28928571j, -0.875-61.28928571j],\n",
       "       [-0.875-10.13928571j, -0.875-10.13928571j],\n",
       "       [ 0.875-10.13928571j,  0.875-10.13928571j],\n",
       "       [ 0.875-61.28928571j,  0.875-61.28928571j]])"
      ]
     },
     "execution_count": 25,
     "metadata": {},
     "output_type": "execute_result"
    }
   ],
   "source": [
    "p2_zeta = P2_ABC(q, q, V, dt, dx, m)\n",
    "p2_zeta"
   ]
  },
  {
   "cell_type": "code",
   "execution_count": 26,
   "id": "74783b35",
   "metadata": {},
   "outputs": [
    {
     "name": "stdout",
     "output_type": "stream",
     "text": [
      "Help on function CN_P2 in module P2_ABC:\n",
      "\n",
      "CN_P2(J, V, zeta, dx, dt, m)\n",
      "    The function takes the input as, \n",
      "    J - length of array\n",
      "    V - Potential array\n",
      "    P2_Zeta - ABC which is defined for P = 2 Absorbing boundary Conditions\n",
      "    dx - grid step\n",
      "    dt - time step\n",
      "    m - mass which is fixed in our case as 0.5\n",
      "\n"
     ]
    }
   ],
   "source": [
    "help(CN_P2)"
   ]
  },
  {
   "cell_type": "code",
   "execution_count": 27,
   "id": "448b5ac8",
   "metadata": {},
   "outputs": [],
   "source": [
    "p2_u1, p2_u2 = CN_P2(J, V, p2_zeta, dx, dt, m)"
   ]
  },
  {
   "cell_type": "code",
   "execution_count": 28,
   "id": "fd1779dd",
   "metadata": {},
   "outputs": [
    {
     "name": "stdout",
     "output_type": "stream",
     "text": [
      "Help on function p2_Solve_CN in module P2_ABC:\n",
      "\n",
      "p2_Solve_CN(x_Range, dx, t, dt, psi0, V, m, p2_zeta)\n",
      "    This fucntion solves the Crank Niksolson metod matrix, and obtains the direct result of wave fucntion, \n",
      "    provided we properly defines the initial wave fucntion.\n",
      "    \n",
      "    Input taken, are x_Range,\n",
      "    grid step, time step\n",
      "    and initial wave fucntion, at t = 0\n",
      "    Potential array\n",
      "    m- which is fixed in our case as 0.5\n",
      "    p2_zeta is required, which is amtrix obtained from P2Zeta functions\n",
      "\n"
     ]
    }
   ],
   "source": [
    "help(p2_Solve_CN)"
   ]
  },
  {
   "cell_type": "code",
   "execution_count": 29,
   "id": "6185105c",
   "metadata": {},
   "outputs": [],
   "source": [
    "p2_psi = p2_Solve_CN(x_Range, dx, t, dt, psi0, V, m, p2_zeta)"
   ]
  },
  {
   "cell_type": "code",
   "execution_count": 30,
   "id": "816d033c",
   "metadata": {
    "scrolled": true
   },
   "outputs": [
    {
     "data": {
      "image/png": "[encoded data removed]",
      "text/plain": [
       "<Figure size 432x288 with 1 Axes>"
      ]
     },
     "metadata": {
      "needs_background": "light"
     },
     "output_type": "display_data"
    },
    {
     "data": {
      "image/png": "[encoded data removed]",
      "text/plain": [
       "<Figure size 432x288 with 1 Axes>"
      ]
     },
     "metadata": {
      "needs_background": "light"
     },
     "output_type": "display_data"
    },
    {
     "data": {
      "image/png": "[encoded data removed]",
      "text/plain": [
       "<Figure size 432x288 with 1 Axes>"
      ]
     },
     "metadata": {
      "needs_background": "light"
     },
     "output_type": "display_data"
    },
    {
     "data": {
      "image/png": "[encoded data removed]",
      "text/plain": [
       "<Figure size 432x288 with 1 Axes>"
      ]
     },
     "metadata": {
      "needs_background": "light"
     },
     "output_type": "display_data"
    },
    {
     "data": {
      "image/png": "[encoded data removed]",
      "text/plain": [
       "<Figure size 432x288 with 1 Axes>"
      ]
     },
     "metadata": {
      "needs_background": "light"
     },
     "output_type": "display_data"
    }
   ],
   "source": [
    "x_range = [-10, 10]\n",
    "y_range = [0, 0.7]\n",
    "\n",
    "\n",
    "for i in range(0, 1500, 300):\n",
    "    \n",
    "    plt.figure()\n",
    "    plt.plot(x_Range, np.absolute(p2_psi[:, i])**2)\n",
    "    \n",
    "    plt.xlim(x_range)\n",
    "    plt.ylim(y_range)\n",
    "    \n",
    "    \n",
    "#The reflection vanished"
   ]
  },
  {
   "cell_type": "code",
   "execution_count": null,
   "id": "d7c1d0bf",
   "metadata": {},
   "outputs": [],
   "source": []
  },
  {
   "cell_type": "markdown",
   "id": "66d466f9",
   "metadata": {},
   "source": [
    "# p=3"
   ]
  },
  {
   "cell_type": "code",
   "execution_count": 31,
   "id": "eace132e",
   "metadata": {},
   "outputs": [],
   "source": [
    "from P3_ABC import P3_ZETA\n",
    "from P3_ABC import CN_P3\n",
    "from P3_ABC import p3_Solve_CN"
   ]
  },
  {
   "cell_type": "code",
   "execution_count": 32,
   "id": "6ce12456",
   "metadata": {},
   "outputs": [
    {
     "name": "stdout",
     "output_type": "stream",
     "text": [
      "Help on function P3_ZETA in module P3_ABC:\n",
      "\n",
      "P3_ZETA(q1, q2, q3, V, dt, dx, m)\n",
      "    Here, we take input of q1, q2, and q3, which are variables in terms of k0,\n",
      "    potential array, \n",
      "    dt, \n",
      "    dx\n",
      "    and mass which is fixed as 0.5. \n",
      "    \n",
      "    \n",
      "    The code computes the zeta matrix, for the ABC for p = 3. This is derived in our report.\n",
      "\n"
     ]
    }
   ],
   "source": [
    "help(P3_ZETA)"
   ]
  },
  {
   "cell_type": "code",
   "execution_count": 33,
   "id": "6c12ac81",
   "metadata": {},
   "outputs": [
    {
     "data": {
      "text/plain": [
       "array([[     0.      +0.j   ,      0.      +0.j   ],\n",
       "       [ 51064.25-14259.525j,  51064.25-14259.525j],\n",
       "       [-51235.75 -6740.475j, -51235.75 -6740.475j],\n",
       "       [ 51235.75 -6740.475j,  51235.75 -6740.475j],\n",
       "       [-51064.25-14259.525j, -51064.25-14259.525j]])"
      ]
     },
     "execution_count": 33,
     "metadata": {},
     "output_type": "execute_result"
    }
   ],
   "source": [
    "p3_zeta = P3_ZETA(q, q, q, V, dt, dx, m)\n",
    "p3_zeta"
   ]
  },
  {
   "cell_type": "code",
   "execution_count": 34,
   "id": "af0a49f0",
   "metadata": {},
   "outputs": [
    {
     "name": "stdout",
     "output_type": "stream",
     "text": [
      "Help on function CN_P3 in module P3_ABC:\n",
      "\n",
      "CN_P3(J, V, p3_zeta, dx, dt, m)\n",
      "    The function takes the input as, \n",
      "    J - length of array\n",
      "    V - Potential array\n",
      "    P2_Zeta - ABC which is defined for P = 2 Absorbing boundary Conditions\n",
      "    dx - grid step\n",
      "    dt - time step\n",
      "    m - mass which is fixed in our case as 0.5\n",
      "\n"
     ]
    }
   ],
   "source": [
    "help(CN_P3)"
   ]
  },
  {
   "cell_type": "code",
   "execution_count": 35,
   "id": "9edad440",
   "metadata": {},
   "outputs": [],
   "source": [
    "p3_u1, p3_u2 = CN_P3(J, V, p3_zeta, dt, dx, m)\n"
   ]
  },
  {
   "cell_type": "code",
   "execution_count": 36,
   "id": "8248d8c0",
   "metadata": {},
   "outputs": [
    {
     "name": "stdout",
     "output_type": "stream",
     "text": [
      "Help on function p3_Solve_CN in module P3_ABC:\n",
      "\n",
      "p3_Solve_CN(x_Range, dx, t, dt, psi0, V, m, p3_zeta)\n",
      "    This fucntion solves the Crank Niksolson metod matrix, and obtains the direct result of wave fucntion, \n",
      "    provided we properly defines the initial wave fucntion.\n",
      "    \n",
      "    Input taken, are x_Range,\n",
      "    grid step, time step\n",
      "    and initial wave fucntion, at t = 0\n",
      "    Potential array\n",
      "    m- which is fixed in our case as 0.5\n",
      "    p3_zeta is required, the matrix which is obtained by P3ZETA fucntion\n",
      "\n"
     ]
    }
   ],
   "source": [
    "help(p3_Solve_CN)"
   ]
  },
  {
   "cell_type": "code",
   "execution_count": 37,
   "id": "4606d541",
   "metadata": {},
   "outputs": [],
   "source": [
    "p3_psi = p3_Solve_CN(x_Range, dx, t, dt, psi0, V, m, p3_zeta)"
   ]
  },
  {
   "cell_type": "code",
   "execution_count": 38,
   "id": "6eb471cd",
   "metadata": {
    "scrolled": true
   },
   "outputs": [
    {
     "data": {
      "image/png": "[encoded data removed]",
      "text/plain": [
       "<Figure size 432x288 with 1 Axes>"
      ]
     },
     "metadata": {
      "needs_background": "light"
     },
     "output_type": "display_data"
    },
    {
     "data": {
      "image/png": "[encoded data removed]",
      "text/plain": [
       "<Figure size 432x288 with 1 Axes>"
      ]
     },
     "metadata": {
      "needs_background": "light"
     },
     "output_type": "display_data"
    },
    {
     "data": {
      "image/png": "[encoded data removed]",
      "text/plain": [
       "<Figure size 432x288 with 1 Axes>"
      ]
     },
     "metadata": {
      "needs_background": "light"
     },
     "output_type": "display_data"
    },
    {
     "data": {
      "image/png": "[encoded data removed]",
      "text/plain": [
       "<Figure size 432x288 with 1 Axes>"
      ]
     },
     "metadata": {
      "needs_background": "light"
     },
     "output_type": "display_data"
    },
    {
     "data": {
      "image/png": "[encoded data removed]",
      "text/plain": [
       "<Figure size 432x288 with 1 Axes>"
      ]
     },
     "metadata": {
      "needs_background": "light"
     },
     "output_type": "display_data"
    }
   ],
   "source": [
    "x_range = [-10, 10]\n",
    "y_range = [0, 0.7]\n",
    "\n",
    "\n",
    "for i in range(0, 1500, 300):\n",
    "    \n",
    "    plt.figure()\n",
    "    plt.plot(x_Range, np.absolute(p3_psi[:, i])**2)\n",
    "    \n",
    "    plt.xlim(x_range)\n",
    "    plt.ylim(y_range)\n",
    "    \n",
    "    \n",
    "#The reflection vanished"
   ]
  },
  {
   "cell_type": "code",
   "execution_count": null,
   "id": "930e2832",
   "metadata": {},
   "outputs": [],
   "source": []
  },
  {
   "cell_type": "markdown",
   "id": "5b4902a1",
   "metadata": {},
   "source": [
    "# p=4"
   ]
  },
  {
   "cell_type": "code",
   "execution_count": 39,
   "id": "ea3c2cfb",
   "metadata": {},
   "outputs": [],
   "source": [
    "from P4_ABC import P4_ABC\n",
    "from P4_ABC import CN_P4\n",
    "from P4_ABC import p4_Solve_CN\n",
    "from P4_ABC import Z_matrix"
   ]
  },
  {
   "cell_type": "code",
   "execution_count": 40,
   "id": "3b456ccf",
   "metadata": {},
   "outputs": [
    {
     "name": "stdout",
     "output_type": "stream",
     "text": [
      "Help on function P4_ABC in module P4_ABC:\n",
      "\n",
      "P4_ABC(q1, q2, q3, q4, V, dt, dx, m)\n",
      "    ABC with p=4, \n",
      "    This code also computes the matrix for zeta, for p = 4. \n",
      "    This gives the first and last row elements for new matrix for Crank Nikolson method\n",
      "\n"
     ]
    }
   ],
   "source": [
    "help(P4_ABC)"
   ]
  },
  {
   "cell_type": "code",
   "execution_count": 41,
   "id": "89e07417",
   "metadata": {},
   "outputs": [
    {
     "data": {
      "text/plain": [
       "array([[       0.       +0.j ,        0.       +0.j ],\n",
       "       [-1931599.75+182088.9j, -1931599.75+182088.9j],\n",
       "       [  932800.25+111911.1j,   932800.25+111911.1j],\n",
       "       [-2432800.25+111911.1j, -2432800.25+111911.1j],\n",
       "       [  431599.75+182088.9j,   431599.75+182088.9j],\n",
       "       [  500000.       +0.j ,        0.       +0.j ],\n",
       "       [  500000.       +0.j ,        0.       +0.j ]])"
      ]
     },
     "execution_count": 41,
     "metadata": {},
     "output_type": "execute_result"
    }
   ],
   "source": [
    "p4_zeta = P4_ABC(q, q, q, q, V, dt, dx, m)\n",
    "p4_zeta"
   ]
  },
  {
   "cell_type": "code",
   "execution_count": 42,
   "id": "130ea92b",
   "metadata": {},
   "outputs": [
    {
     "name": "stdout",
     "output_type": "stream",
     "text": [
      "Help on function Z_matrix in module P4_ABC:\n",
      "\n",
      "Z_matrix(J, p4_zeta)\n",
      "    The function computes the Z Matrix which is required to obtain the necessary solutions. \n",
      "    The derivation of this matrix is shown in our report.\n",
      "    \n",
      "    The input required for this function is just J (len of grid points), \n",
      "    and zeta matrix for p = 3\n",
      "\n"
     ]
    }
   ],
   "source": [
    "help(Z_matrix)"
   ]
  },
  {
   "cell_type": "code",
   "execution_count": 43,
   "id": "14877e7c",
   "metadata": {},
   "outputs": [],
   "source": [
    "Z = Z_matrix(J, p4_zeta)"
   ]
  },
  {
   "cell_type": "code",
   "execution_count": 44,
   "id": "92dedde2",
   "metadata": {},
   "outputs": [
    {
     "name": "stdout",
     "output_type": "stream",
     "text": [
      "Help on function CN_P4 in module P4_ABC:\n",
      "\n",
      "CN_P4(J, V, p4_zeta, dx, dt, m)\n",
      "    The function takes the input as, \n",
      "    J - length of array\n",
      "    V - Potential array\n",
      "    4_Zeta - ABC which is defined for P = 4 Absorbing boundary Conditions\n",
      "    dx - grid step\n",
      "    dt - time step\n",
      "    m - mass which is fixed in our case as 0.5\n",
      "    \n",
      "    This also requires the initial matrixces of crank nikolson mathod, the reason for them is well shown in \n",
      "    our report.\n",
      "\n"
     ]
    }
   ],
   "source": [
    "help(CN_P4)"
   ]
  },
  {
   "cell_type": "code",
   "execution_count": 45,
   "id": "2821682c",
   "metadata": {},
   "outputs": [],
   "source": [
    "p4_u1, p4_u2, w1, w2 = CN_P4(J, V, p4_zeta, dx, dt, m)"
   ]
  },
  {
   "cell_type": "code",
   "execution_count": null,
   "id": "7763f2d1",
   "metadata": {},
   "outputs": [],
   "source": []
  },
  {
   "cell_type": "code",
   "execution_count": 46,
   "id": "023e0ce1",
   "metadata": {},
   "outputs": [
    {
     "name": "stdout",
     "output_type": "stream",
     "text": [
      "Help on function p4_Solve_CN in module P4_ABC:\n",
      "\n",
      "p4_Solve_CN(x_Range, dx, t, dt, psi0, V, m, p4_zeta, Z)\n",
      "    This fucntion solves the Crank Niksolson metod matrix, and obtains the direct result of wave fucntion, \n",
      "    provided we properly defines the initial wave fucntion.\n",
      "    \n",
      "    Input taken, are x_Range,\n",
      "    grid step, time step\n",
      "    and initial wave fucntion, at t = 0\n",
      "    Potential array\n",
      "    m- which is fixed in our case as 0.5\n",
      "    p4_zeta is required for the fucntioning of this functions, otherwise,\n",
      "    it is giving error for defining itwithin a fucntion\n",
      "    \n",
      "    Z is the Z matrix that is newly obtained in the code only for p =4\n",
      "\n"
     ]
    }
   ],
   "source": [
    "help(p4_Solve_CN)"
   ]
  },
  {
   "cell_type": "code",
   "execution_count": 48,
   "id": "6420c509",
   "metadata": {},
   "outputs": [],
   "source": [
    "p4_psi = p4_Solve_CN(x_Range, dx, t, dt, psi0, V, m, p4_zeta, Z)"
   ]
  },
  {
   "cell_type": "code",
   "execution_count": 49,
   "id": "28c5243f",
   "metadata": {
    "scrolled": true
   },
   "outputs": [
    {
     "data": {
      "image/png": "[encoded data removed]",
      "text/plain": [
       "<Figure size 432x288 with 1 Axes>"
      ]
     },
     "metadata": {
      "needs_background": "light"
     },
     "output_type": "display_data"
    },
    {
     "data": {
      "image/png": "[encoded data removed]",
      "text/plain": [
       "<Figure size 432x288 with 1 Axes>"
      ]
     },
     "metadata": {
      "needs_background": "light"
     },
     "output_type": "display_data"
    },
    {
     "data": {
      "image/png": "[encoded data removed]",
      "text/plain": [
       "<Figure size 432x288 with 1 Axes>"
      ]
     },
     "metadata": {
      "needs_background": "light"
     },
     "output_type": "display_data"
    },
    {
     "data": {
      "image/png": "[encoded data removed]",
      "text/plain": [
       "<Figure size 432x288 with 1 Axes>"
      ]
     },
     "metadata": {
      "needs_background": "light"
     },
     "output_type": "display_data"
    },
    {
     "data": {
      "image/png": "[encoded data removed]",
      "text/plain": [
       "<Figure size 432x288 with 1 Axes>"
      ]
     },
     "metadata": {
      "needs_background": "light"
     },
     "output_type": "display_data"
    }
   ],
   "source": [
    "x_range = [-10, 10]\n",
    "y_range = [0, 0.7]\n",
    "\n",
    "\n",
    "for i in range(0, 1500, 300):\n",
    "    \n",
    "    plt.figure()\n",
    "    plt.plot(x_Range, np.absolute(p4_psi[:, i])**2)\n",
    "    \n",
    "    plt.xlim(x_range)\n",
    "    plt.ylim(y_range)\n",
    "    \n",
    "    \n",
    "#The reflection vanished"
   ]
  },
  {
   "cell_type": "code",
   "execution_count": null,
   "id": "310efccf",
   "metadata": {},
   "outputs": [],
   "source": []
  },
  {
   "cell_type": "code",
   "execution_count": null,
   "id": "f4084979",
   "metadata": {},
   "outputs": [],
   "source": []
  },
  {
   "cell_type": "code",
   "execution_count": null,
   "id": "e60bbae5",
   "metadata": {},
   "outputs": [],
   "source": []
  }
 ],
 "metadata": {
  "kernelspec": {
   "display_name": "Python 3 (ipykernel)",
   "language": "python",
   "name": "python3"
  },
  "language_info": {
   "codemirror_mode": {
    "name": "ipython",
    "version": 3
   },
   "file_extension": ".py",
   "mimetype": "text/x-python",
   "name": "python",
   "nbconvert_exporter": "python",
   "pygments_lexer": "ipython3",
   "version": "3.9.12"
  }
 },
 "nbformat": 4,
 "nbformat_minor": 5
}
